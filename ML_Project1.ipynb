{
  "nbformat": 4,
  "nbformat_minor": 0,
  "metadata": {
    "colab": {
      "provenance": [],
      "collapsed_sections": [
        "ItL1KRyN6Gvj",
        "h1PYnv_eiQfv",
        "GiwNTpgJp4Lu",
        "XE2x6wqpTnsi",
        "evFFFcnQPkB2",
        "GFssPiQP9NrC",
        "Us-h4oZ4p0tH",
        "BSdsS7z1Imxq",
        "ty5PvKwhkBXO",
        "w-Q7ECtljB01",
        "hlX3UIsiv1yT",
        "0ORsz1dY--YR",
        "BsbNK2en_B8M",
        "9oKWT6sqBx9l"
      ]
    },
    "kernelspec": {
      "name": "python3",
      "display_name": "Python 3"
    },
    "language_info": {
      "name": "python"
    }
  },
  "cells": [
    {
      "cell_type": "markdown",
      "metadata": {
        "id": "NPpBYbohZahG"
      },
      "source": [
        "# Import the needed libraries"
      ]
    },
    {
      "cell_type": "code",
      "execution_count": null,
      "metadata": {
        "id": "RIQmcJWKZahG",
        "colab": {
          "base_uri": "https://localhost:8080/"
        },
        "outputId": "52a05126-34e9-4e08-b2da-b2afd626b95d"
      },
      "outputs": [
        {
          "output_type": "stream",
          "name": "stderr",
          "text": [
            "/usr/local/lib/python3.7/dist-packages/statsmodels/tools/_testing.py:19: FutureWarning: pandas.util.testing is deprecated. Use the functions in the public API at pandas.testing instead.\n",
            "  import pandas.util.testing as tm\n"
          ]
        }
      ],
      "source": [
        "import numpy as np\n",
        "import pandas as pd\n",
        "from sklearn.model_selection import train_test_split\n",
        "from sklearn.preprocessing import LabelEncoder\n",
        "import seaborn as sns\n",
        "from sklearn import metrics\n",
        "from sklearn import tree\n",
        "from sklearn import preprocessing\n",
        "import matplotlib.pyplot as plt\n",
        "from sklearn.model_selection import GridSearchCV\n",
        "import graphviz\n",
        "from sklearn.metrics import accuracy_score\n",
        "import category_encoders as ce\n",
        "from sklearn.neighbors import KNeighborsClassifier\n",
        "from sklearn.feature_selection import SequentialFeatureSelector\n",
        "from sklearn.linear_model import LogisticRegression\n",
        "from numpy import percentile\n",
        "from sklearn.ensemble import RandomForestClassifier"
      ]
    },
    {
      "cell_type": "markdown",
      "source": [
        "# 1- **Importing data**"
      ],
      "metadata": {
        "id": "ItL1KRyN6Gvj"
      }
    },
    {
      "cell_type": "code",
      "source": [
        "data = pd.read_csv(\"train.csv\")"
      ],
      "metadata": {
        "id": "WD3uV73ZnDjH"
      },
      "execution_count": null,
      "outputs": []
    },
    {
      "cell_type": "markdown",
      "source": [
        "# 2-**EDA**"
      ],
      "metadata": {
        "id": "CibUeRqliAR3"
      }
    },
    {
      "cell_type": "markdown",
      "source": [
        ">## 2.1 Exploring the data"
      ],
      "metadata": {
        "id": "h1PYnv_eiQfv"
      }
    },
    {
      "cell_type": "code",
      "source": [
        "data.head()"
      ],
      "metadata": {
        "colab": {
          "base_uri": "https://localhost:8080/"
        },
        "id": "8sKpMDxFQFt1",
        "outputId": "5587fdba-6283-4b98-f080-3385ae5933e8"
      },
      "execution_count": null,
      "outputs": [
        {
          "output_type": "execute_result",
          "data": {
            "text/html": [
              "\n",
              "  <div id=\"df-f1466d2f-7f1e-4e55-b826-d6c940c49196\">\n",
              "    <div class=\"colab-df-container\">\n",
              "      <div>\n",
              "<style scoped>\n",
              "    .dataframe tbody tr th:only-of-type {\n",
              "        vertical-align: middle;\n",
              "    }\n",
              "\n",
              "    .dataframe tbody tr th {\n",
              "        vertical-align: top;\n",
              "    }\n",
              "\n",
              "    .dataframe thead th {\n",
              "        text-align: right;\n",
              "    }\n",
              "</style>\n",
              "<table border=\"1\" class=\"dataframe\">\n",
              "  <thead>\n",
              "    <tr style=\"text-align: right;\">\n",
              "      <th></th>\n",
              "      <th>RecordID</th>\n",
              "      <th>age</th>\n",
              "      <th>job</th>\n",
              "      <th>marital</th>\n",
              "      <th>education</th>\n",
              "      <th>default</th>\n",
              "      <th>housing</th>\n",
              "      <th>loan</th>\n",
              "      <th>contact</th>\n",
              "      <th>month</th>\n",
              "      <th>day_of_week</th>\n",
              "      <th>duration</th>\n",
              "      <th>campaign</th>\n",
              "      <th>pdays</th>\n",
              "      <th>previous</th>\n",
              "      <th>poutcome</th>\n",
              "      <th>emp.var.rate</th>\n",
              "      <th>cons.price.idx</th>\n",
              "      <th>cons.conf.idx</th>\n",
              "      <th>euribor3m</th>\n",
              "      <th>nr.employed</th>\n",
              "      <th>subscribe</th>\n",
              "    </tr>\n",
              "  </thead>\n",
              "  <tbody>\n",
              "    <tr>\n",
              "      <th>0</th>\n",
              "      <td>13783</td>\n",
              "      <td>49</td>\n",
              "      <td>admin.</td>\n",
              "      <td>divorced</td>\n",
              "      <td>professional.course</td>\n",
              "      <td>no</td>\n",
              "      <td>yes</td>\n",
              "      <td>yes</td>\n",
              "      <td>cellular</td>\n",
              "      <td>aug</td>\n",
              "      <td>mon</td>\n",
              "      <td>4457</td>\n",
              "      <td>1</td>\n",
              "      <td>115</td>\n",
              "      <td>2</td>\n",
              "      <td>failure</td>\n",
              "      <td>1.4</td>\n",
              "      <td>92.479703</td>\n",
              "      <td>-35.498996</td>\n",
              "      <td>0.705058</td>\n",
              "      <td>4990.198481</td>\n",
              "      <td>no</td>\n",
              "    </tr>\n",
              "    <tr>\n",
              "      <th>1</th>\n",
              "      <td>23986</td>\n",
              "      <td>52</td>\n",
              "      <td>services</td>\n",
              "      <td>married</td>\n",
              "      <td>high.school</td>\n",
              "      <td>unknown</td>\n",
              "      <td>yes</td>\n",
              "      <td>no</td>\n",
              "      <td>cellular</td>\n",
              "      <td>may</td>\n",
              "      <td>mon</td>\n",
              "      <td>4797</td>\n",
              "      <td>1</td>\n",
              "      <td>402</td>\n",
              "      <td>2</td>\n",
              "      <td>nonexistent</td>\n",
              "      <td>-1.8</td>\n",
              "      <td>93.439161</td>\n",
              "      <td>-39.331320</td>\n",
              "      <td>4.245479</td>\n",
              "      <td>5144.563621</td>\n",
              "      <td>yes</td>\n",
              "    </tr>\n",
              "    <tr>\n",
              "      <th>2</th>\n",
              "      <td>20663</td>\n",
              "      <td>46</td>\n",
              "      <td>blue-collar</td>\n",
              "      <td>divorced</td>\n",
              "      <td>basic.9y</td>\n",
              "      <td>no</td>\n",
              "      <td>no</td>\n",
              "      <td>no</td>\n",
              "      <td>cellular</td>\n",
              "      <td>apr</td>\n",
              "      <td>wed</td>\n",
              "      <td>169</td>\n",
              "      <td>1</td>\n",
              "      <td>999</td>\n",
              "      <td>1</td>\n",
              "      <td>failure</td>\n",
              "      <td>-1.8</td>\n",
              "      <td>93.075000</td>\n",
              "      <td>-47.100000</td>\n",
              "      <td>1.445000</td>\n",
              "      <td>5099.100000</td>\n",
              "      <td>no</td>\n",
              "    </tr>\n",
              "    <tr>\n",
              "      <th>3</th>\n",
              "      <td>13958</td>\n",
              "      <td>26</td>\n",
              "      <td>entrepreneur</td>\n",
              "      <td>single</td>\n",
              "      <td>high.school</td>\n",
              "      <td>yes</td>\n",
              "      <td>yes</td>\n",
              "      <td>yes</td>\n",
              "      <td>cellular</td>\n",
              "      <td>aug</td>\n",
              "      <td>fri</td>\n",
              "      <td>376</td>\n",
              "      <td>28</td>\n",
              "      <td>999</td>\n",
              "      <td>0</td>\n",
              "      <td>nonexistent</td>\n",
              "      <td>1.4</td>\n",
              "      <td>93.444000</td>\n",
              "      <td>-36.100000</td>\n",
              "      <td>4.967000</td>\n",
              "      <td>5228.100000</td>\n",
              "      <td>yes</td>\n",
              "    </tr>\n",
              "    <tr>\n",
              "      <th>4</th>\n",
              "      <td>28184</td>\n",
              "      <td>47</td>\n",
              "      <td>admin.</td>\n",
              "      <td>single</td>\n",
              "      <td>university.degree</td>\n",
              "      <td>no</td>\n",
              "      <td>no</td>\n",
              "      <td>no</td>\n",
              "      <td>cellular</td>\n",
              "      <td>nov</td>\n",
              "      <td>tue</td>\n",
              "      <td>3033</td>\n",
              "      <td>1</td>\n",
              "      <td>252</td>\n",
              "      <td>4</td>\n",
              "      <td>success</td>\n",
              "      <td>-3.4</td>\n",
              "      <td>94.352376</td>\n",
              "      <td>-33.073620</td>\n",
              "      <td>1.208702</td>\n",
              "      <td>5025.420036</td>\n",
              "      <td>no</td>\n",
              "    </tr>\n",
              "  </tbody>\n",
              "</table>\n",
              "</div>\n",
              "      <button class=\"colab-df-convert\" onclick=\"convertToInteractive('df-f1466d2f-7f1e-4e55-b826-d6c940c49196')\"\n",
              "              title=\"Convert this dataframe to an interactive table.\"\n",
              "              style=\"display:none;\">\n",
              "        \n",
              "  <svg xmlns=\"http://www.w3.org/2000/svg\" height=\"24px\"viewBox=\"0 0 24 24\"\n",
              "       width=\"24px\">\n",
              "    <path d=\"M0 0h24v24H0V0z\" fill=\"none\"/>\n",
              "    <path d=\"M18.56 5.44l.94 2.06.94-2.06 2.06-.94-2.06-.94-.94-2.06-.94 2.06-2.06.94zm-11 1L8.5 8.5l.94-2.06 2.06-.94-2.06-.94L8.5 2.5l-.94 2.06-2.06.94zm10 10l.94 2.06.94-2.06 2.06-.94-2.06-.94-.94-2.06-.94 2.06-2.06.94z\"/><path d=\"M17.41 7.96l-1.37-1.37c-.4-.4-.92-.59-1.43-.59-.52 0-1.04.2-1.43.59L10.3 9.45l-7.72 7.72c-.78.78-.78 2.05 0 2.83L4 21.41c.39.39.9.59 1.41.59.51 0 1.02-.2 1.41-.59l7.78-7.78 2.81-2.81c.8-.78.8-2.07 0-2.86zM5.41 20L4 18.59l7.72-7.72 1.47 1.35L5.41 20z\"/>\n",
              "  </svg>\n",
              "      </button>\n",
              "      \n",
              "  <style>\n",
              "    .colab-df-container {\n",
              "      display:flex;\n",
              "      flex-wrap:wrap;\n",
              "      gap: 12px;\n",
              "    }\n",
              "\n",
              "    .colab-df-convert {\n",
              "      background-color: #E8F0FE;\n",
              "      border: none;\n",
              "      border-radius: 50%;\n",
              "      cursor: pointer;\n",
              "      display: none;\n",
              "      fill: #1967D2;\n",
              "      height: 32px;\n",
              "      padding: 0 0 0 0;\n",
              "      width: 32px;\n",
              "    }\n",
              "\n",
              "    .colab-df-convert:hover {\n",
              "      background-color: #E2EBFA;\n",
              "      box-shadow: 0px 1px 2px rgba(60, 64, 67, 0.3), 0px 1px 3px 1px rgba(60, 64, 67, 0.15);\n",
              "      fill: #174EA6;\n",
              "    }\n",
              "\n",
              "    [theme=dark] .colab-df-convert {\n",
              "      background-color: #3B4455;\n",
              "      fill: #D2E3FC;\n",
              "    }\n",
              "\n",
              "    [theme=dark] .colab-df-convert:hover {\n",
              "      background-color: #434B5C;\n",
              "      box-shadow: 0px 1px 3px 1px rgba(0, 0, 0, 0.15);\n",
              "      filter: drop-shadow(0px 1px 2px rgba(0, 0, 0, 0.3));\n",
              "      fill: #FFFFFF;\n",
              "    }\n",
              "  </style>\n",
              "\n",
              "      <script>\n",
              "        const buttonEl =\n",
              "          document.querySelector('#df-f1466d2f-7f1e-4e55-b826-d6c940c49196 button.colab-df-convert');\n",
              "        buttonEl.style.display =\n",
              "          google.colab.kernel.accessAllowed ? 'block' : 'none';\n",
              "\n",
              "        async function convertToInteractive(key) {\n",
              "          const element = document.querySelector('#df-f1466d2f-7f1e-4e55-b826-d6c940c49196');\n",
              "          const dataTable =\n",
              "            await google.colab.kernel.invokeFunction('convertToInteractive',\n",
              "                                                     [key], {});\n",
              "          if (!dataTable) return;\n",
              "\n",
              "          const docLinkHtml = 'Like what you see? Visit the ' +\n",
              "            '<a target=\"_blank\" href=https://colab.research.google.com/notebooks/data_table.ipynb>data table notebook</a>'\n",
              "            + ' to learn more about interactive tables.';\n",
              "          element.innerHTML = '';\n",
              "          dataTable['output_type'] = 'display_data';\n",
              "          await google.colab.output.renderOutput(dataTable, element);\n",
              "          const docLink = document.createElement('div');\n",
              "          docLink.innerHTML = docLinkHtml;\n",
              "          element.appendChild(docLink);\n",
              "        }\n",
              "      </script>\n",
              "    </div>\n",
              "  </div>\n",
              "  "
            ],
            "text/plain": [
              "   RecordID  age           job  ... euribor3m  nr.employed subscribe\n",
              "0     13783   49        admin.  ...  0.705058  4990.198481        no\n",
              "1     23986   52      services  ...  4.245479  5144.563621       yes\n",
              "2     20663   46   blue-collar  ...  1.445000  5099.100000        no\n",
              "3     13958   26  entrepreneur  ...  4.967000  5228.100000       yes\n",
              "4     28184   47        admin.  ...  1.208702  5025.420036        no\n",
              "\n",
              "[5 rows x 22 columns]"
            ]
          },
          "metadata": {},
          "execution_count": 3
        }
      ]
    },
    {
      "cell_type": "code",
      "execution_count": null,
      "metadata": {
        "id": "xW6Qd4hLZahb",
        "colab": {
          "base_uri": "https://localhost:8080/"
        },
        "outputId": "b8f41a70-202a-4f80-c95e-51d5bab255f8"
      },
      "outputs": [
        {
          "output_type": "stream",
          "name": "stdout",
          "text": [
            "dataset shape is (22500, 22)\n"
          ]
        }
      ],
      "source": [
        "print(f'dataset shape is {data.shape}')"
      ]
    },
    {
      "cell_type": "code",
      "source": [
        "data.info()"
      ],
      "metadata": {
        "colab": {
          "base_uri": "https://localhost:8080/"
        },
        "id": "LuGlM9oXiGd7",
        "outputId": "e2a1c552-0242-4d5d-8519-69db29ed62e2"
      },
      "execution_count": null,
      "outputs": [
        {
          "output_type": "stream",
          "name": "stdout",
          "text": [
            "<class 'pandas.core.frame.DataFrame'>\n",
            "RangeIndex: 22500 entries, 0 to 22499\n",
            "Data columns (total 22 columns):\n",
            " #   Column          Non-Null Count  Dtype  \n",
            "---  ------          --------------  -----  \n",
            " 0   RecordID        22500 non-null  int64  \n",
            " 1   age             22500 non-null  int64  \n",
            " 2   job             22500 non-null  object \n",
            " 3   marital         22500 non-null  object \n",
            " 4   education       22500 non-null  object \n",
            " 5   default         22500 non-null  object \n",
            " 6   housing         22500 non-null  object \n",
            " 7   loan            22500 non-null  object \n",
            " 8   contact         22500 non-null  object \n",
            " 9   month           22500 non-null  object \n",
            " 10  day_of_week     22500 non-null  object \n",
            " 11  duration        22500 non-null  int64  \n",
            " 12  campaign        22500 non-null  int64  \n",
            " 13  pdays           22500 non-null  int64  \n",
            " 14  previous        22500 non-null  int64  \n",
            " 15  poutcome        22500 non-null  object \n",
            " 16  emp.var.rate    22500 non-null  float64\n",
            " 17  cons.price.idx  22500 non-null  float64\n",
            " 18  cons.conf.idx   22500 non-null  float64\n",
            " 19  euribor3m       22500 non-null  float64\n",
            " 20  nr.employed     22500 non-null  float64\n",
            " 21  subscribe       22500 non-null  object \n",
            "dtypes: float64(5), int64(6), object(11)\n",
            "memory usage: 3.8+ MB\n"
          ]
        }
      ]
    },
    {
      "cell_type": "code",
      "source": [
        "data.describe()"
      ],
      "metadata": {
        "colab": {
          "base_uri": "https://localhost:8080/"
        },
        "id": "5OA0YOuiiaK2",
        "outputId": "00bded4c-1ba9-40bc-dd25-82b62f179390"
      },
      "execution_count": null,
      "outputs": [
        {
          "output_type": "execute_result",
          "data": {
            "text/html": [
              "\n",
              "  <div id=\"df-06d57877-aa94-4ef5-92a3-a05c07036673\">\n",
              "    <div class=\"colab-df-container\">\n",
              "      <div>\n",
              "<style scoped>\n",
              "    .dataframe tbody tr th:only-of-type {\n",
              "        vertical-align: middle;\n",
              "    }\n",
              "\n",
              "    .dataframe tbody tr th {\n",
              "        vertical-align: top;\n",
              "    }\n",
              "\n",
              "    .dataframe thead th {\n",
              "        text-align: right;\n",
              "    }\n",
              "</style>\n",
              "<table border=\"1\" class=\"dataframe\">\n",
              "  <thead>\n",
              "    <tr style=\"text-align: right;\">\n",
              "      <th></th>\n",
              "      <th>RecordID</th>\n",
              "      <th>age</th>\n",
              "      <th>duration</th>\n",
              "      <th>campaign</th>\n",
              "      <th>pdays</th>\n",
              "      <th>previous</th>\n",
              "      <th>emp.var.rate</th>\n",
              "      <th>cons.price.idx</th>\n",
              "      <th>cons.conf.idx</th>\n",
              "      <th>euribor3m</th>\n",
              "      <th>nr.employed</th>\n",
              "    </tr>\n",
              "  </thead>\n",
              "  <tbody>\n",
              "    <tr>\n",
              "      <th>count</th>\n",
              "      <td>22500.000000</td>\n",
              "      <td>22500.000000</td>\n",
              "      <td>22500.000000</td>\n",
              "      <td>22500.000000</td>\n",
              "      <td>22500.000000</td>\n",
              "      <td>22500.000000</td>\n",
              "      <td>22500.000000</td>\n",
              "      <td>22500.000000</td>\n",
              "      <td>22500.000000</td>\n",
              "      <td>22500.000000</td>\n",
              "      <td>22500.000000</td>\n",
              "    </tr>\n",
              "    <tr>\n",
              "      <th>mean</th>\n",
              "      <td>15011.876889</td>\n",
              "      <td>40.904489</td>\n",
              "      <td>1146.554311</td>\n",
              "      <td>3.857244</td>\n",
              "      <td>774.562533</td>\n",
              "      <td>1.316444</td>\n",
              "      <td>0.078529</td>\n",
              "      <td>93.538746</td>\n",
              "      <td>-39.872633</td>\n",
              "      <td>3.307811</td>\n",
              "      <td>5138.567351</td>\n",
              "    </tr>\n",
              "    <tr>\n",
              "      <th>std</th>\n",
              "      <td>8679.392766</td>\n",
              "      <td>12.026945</td>\n",
              "      <td>1430.790448</td>\n",
              "      <td>7.210891</td>\n",
              "      <td>326.020060</td>\n",
              "      <td>1.918733</td>\n",
              "      <td>1.573831</td>\n",
              "      <td>0.647698</td>\n",
              "      <td>5.692010</td>\n",
              "      <td>1.608627</td>\n",
              "      <td>81.748896</td>\n",
              "    </tr>\n",
              "    <tr>\n",
              "      <th>min</th>\n",
              "      <td>1.000000</td>\n",
              "      <td>17.000000</td>\n",
              "      <td>0.000000</td>\n",
              "      <td>1.000000</td>\n",
              "      <td>0.000000</td>\n",
              "      <td>0.000000</td>\n",
              "      <td>-3.400000</td>\n",
              "      <td>92.201000</td>\n",
              "      <td>-50.800000</td>\n",
              "      <td>0.634000</td>\n",
              "      <td>4963.600000</td>\n",
              "    </tr>\n",
              "    <tr>\n",
              "      <th>25%</th>\n",
              "      <td>7483.750000</td>\n",
              "      <td>32.000000</td>\n",
              "      <td>144.000000</td>\n",
              "      <td>1.000000</td>\n",
              "      <td>558.750000</td>\n",
              "      <td>0.000000</td>\n",
              "      <td>-1.800000</td>\n",
              "      <td>92.969840</td>\n",
              "      <td>-43.643788</td>\n",
              "      <td>1.410000</td>\n",
              "      <td>5081.293851</td>\n",
              "    </tr>\n",
              "    <tr>\n",
              "      <th>50%</th>\n",
              "      <td>15032.500000</td>\n",
              "      <td>38.000000</td>\n",
              "      <td>354.000000</td>\n",
              "      <td>2.000000</td>\n",
              "      <td>999.000000</td>\n",
              "      <td>0.000000</td>\n",
              "      <td>1.100000</td>\n",
              "      <td>93.485726</td>\n",
              "      <td>-41.522404</td>\n",
              "      <td>3.964364</td>\n",
              "      <td>5165.319989</td>\n",
              "    </tr>\n",
              "    <tr>\n",
              "      <th>75%</th>\n",
              "      <td>22514.500000</td>\n",
              "      <td>48.000000</td>\n",
              "      <td>1877.000000</td>\n",
              "      <td>3.000000</td>\n",
              "      <td>999.000000</td>\n",
              "      <td>2.000000</td>\n",
              "      <td>1.400000</td>\n",
              "      <td>93.994000</td>\n",
              "      <td>-36.100000</td>\n",
              "      <td>4.864000</td>\n",
              "      <td>5218.069326</td>\n",
              "    </tr>\n",
              "    <tr>\n",
              "      <th>max</th>\n",
              "      <td>30000.000000</td>\n",
              "      <td>98.000000</td>\n",
              "      <td>4918.000000</td>\n",
              "      <td>56.000000</td>\n",
              "      <td>999.000000</td>\n",
              "      <td>6.000000</td>\n",
              "      <td>1.400000</td>\n",
              "      <td>94.767000</td>\n",
              "      <td>-26.900000</td>\n",
              "      <td>5.045000</td>\n",
              "      <td>5228.100000</td>\n",
              "    </tr>\n",
              "  </tbody>\n",
              "</table>\n",
              "</div>\n",
              "      <button class=\"colab-df-convert\" onclick=\"convertToInteractive('df-06d57877-aa94-4ef5-92a3-a05c07036673')\"\n",
              "              title=\"Convert this dataframe to an interactive table.\"\n",
              "              style=\"display:none;\">\n",
              "        \n",
              "  <svg xmlns=\"http://www.w3.org/2000/svg\" height=\"24px\"viewBox=\"0 0 24 24\"\n",
              "       width=\"24px\">\n",
              "    <path d=\"M0 0h24v24H0V0z\" fill=\"none\"/>\n",
              "    <path d=\"M18.56 5.44l.94 2.06.94-2.06 2.06-.94-2.06-.94-.94-2.06-.94 2.06-2.06.94zm-11 1L8.5 8.5l.94-2.06 2.06-.94-2.06-.94L8.5 2.5l-.94 2.06-2.06.94zm10 10l.94 2.06.94-2.06 2.06-.94-2.06-.94-.94-2.06-.94 2.06-2.06.94z\"/><path d=\"M17.41 7.96l-1.37-1.37c-.4-.4-.92-.59-1.43-.59-.52 0-1.04.2-1.43.59L10.3 9.45l-7.72 7.72c-.78.78-.78 2.05 0 2.83L4 21.41c.39.39.9.59 1.41.59.51 0 1.02-.2 1.41-.59l7.78-7.78 2.81-2.81c.8-.78.8-2.07 0-2.86zM5.41 20L4 18.59l7.72-7.72 1.47 1.35L5.41 20z\"/>\n",
              "  </svg>\n",
              "      </button>\n",
              "      \n",
              "  <style>\n",
              "    .colab-df-container {\n",
              "      display:flex;\n",
              "      flex-wrap:wrap;\n",
              "      gap: 12px;\n",
              "    }\n",
              "\n",
              "    .colab-df-convert {\n",
              "      background-color: #E8F0FE;\n",
              "      border: none;\n",
              "      border-radius: 50%;\n",
              "      cursor: pointer;\n",
              "      display: none;\n",
              "      fill: #1967D2;\n",
              "      height: 32px;\n",
              "      padding: 0 0 0 0;\n",
              "      width: 32px;\n",
              "    }\n",
              "\n",
              "    .colab-df-convert:hover {\n",
              "      background-color: #E2EBFA;\n",
              "      box-shadow: 0px 1px 2px rgba(60, 64, 67, 0.3), 0px 1px 3px 1px rgba(60, 64, 67, 0.15);\n",
              "      fill: #174EA6;\n",
              "    }\n",
              "\n",
              "    [theme=dark] .colab-df-convert {\n",
              "      background-color: #3B4455;\n",
              "      fill: #D2E3FC;\n",
              "    }\n",
              "\n",
              "    [theme=dark] .colab-df-convert:hover {\n",
              "      background-color: #434B5C;\n",
              "      box-shadow: 0px 1px 3px 1px rgba(0, 0, 0, 0.15);\n",
              "      filter: drop-shadow(0px 1px 2px rgba(0, 0, 0, 0.3));\n",
              "      fill: #FFFFFF;\n",
              "    }\n",
              "  </style>\n",
              "\n",
              "      <script>\n",
              "        const buttonEl =\n",
              "          document.querySelector('#df-06d57877-aa94-4ef5-92a3-a05c07036673 button.colab-df-convert');\n",
              "        buttonEl.style.display =\n",
              "          google.colab.kernel.accessAllowed ? 'block' : 'none';\n",
              "\n",
              "        async function convertToInteractive(key) {\n",
              "          const element = document.querySelector('#df-06d57877-aa94-4ef5-92a3-a05c07036673');\n",
              "          const dataTable =\n",
              "            await google.colab.kernel.invokeFunction('convertToInteractive',\n",
              "                                                     [key], {});\n",
              "          if (!dataTable) return;\n",
              "\n",
              "          const docLinkHtml = 'Like what you see? Visit the ' +\n",
              "            '<a target=\"_blank\" href=https://colab.research.google.com/notebooks/data_table.ipynb>data table notebook</a>'\n",
              "            + ' to learn more about interactive tables.';\n",
              "          element.innerHTML = '';\n",
              "          dataTable['output_type'] = 'display_data';\n",
              "          await google.colab.output.renderOutput(dataTable, element);\n",
              "          const docLink = document.createElement('div');\n",
              "          docLink.innerHTML = docLinkHtml;\n",
              "          element.appendChild(docLink);\n",
              "        }\n",
              "      </script>\n",
              "    </div>\n",
              "  </div>\n",
              "  "
            ],
            "text/plain": [
              "           RecordID           age  ...     euribor3m   nr.employed\n",
              "count  22500.000000  22500.000000  ...  22500.000000  22500.000000\n",
              "mean   15011.876889     40.904489  ...      3.307811   5138.567351\n",
              "std     8679.392766     12.026945  ...      1.608627     81.748896\n",
              "min        1.000000     17.000000  ...      0.634000   4963.600000\n",
              "25%     7483.750000     32.000000  ...      1.410000   5081.293851\n",
              "50%    15032.500000     38.000000  ...      3.964364   5165.319989\n",
              "75%    22514.500000     48.000000  ...      4.864000   5218.069326\n",
              "max    30000.000000     98.000000  ...      5.045000   5228.100000\n",
              "\n",
              "[8 rows x 11 columns]"
            ]
          },
          "metadata": {},
          "execution_count": 6
        }
      ]
    },
    {
      "cell_type": "markdown",
      "source": [
        ">## 2.2 Dealing with Nulls"
      ],
      "metadata": {
        "id": "5E6-wOksT1Kj"
      }
    },
    {
      "cell_type": "markdown",
      "source": [
        "NULLs exits in the dataset in the form of an attribute called unknown, so we first replace this unknowns with NULLs and then decide the best action for each attribute"
      ],
      "metadata": {
        "id": "yKlG7W26L8-Z"
      }
    },
    {
      "cell_type": "code",
      "source": [
        "data.replace(to_replace = \"unknown\", value=np.NaN, inplace= True)"
      ],
      "metadata": {
        "id": "icIEehw8PqIA"
      },
      "execution_count": null,
      "outputs": []
    },
    {
      "cell_type": "code",
      "source": [
        "data.isnull().sum()"
      ],
      "metadata": {
        "colab": {
          "base_uri": "https://localhost:8080/"
        },
        "id": "OVL5ouCBijWq",
        "outputId": "07bfb5ee-eff1-46d3-fce9-85b183235a2b"
      },
      "execution_count": null,
      "outputs": [
        {
          "output_type": "execute_result",
          "data": {
            "text/plain": [
              "RecordID             0\n",
              "age                  0\n",
              "job                274\n",
              "marital            320\n",
              "education          994\n",
              "default           4860\n",
              "housing            886\n",
              "loan               889\n",
              "contact              0\n",
              "month                0\n",
              "day_of_week          0\n",
              "duration             0\n",
              "campaign             0\n",
              "pdays                0\n",
              "previous             0\n",
              "poutcome             0\n",
              "emp.var.rate         0\n",
              "cons.price.idx       0\n",
              "cons.conf.idx        0\n",
              "euribor3m            0\n",
              "nr.employed          0\n",
              "subscribe            0\n",
              "dtype: int64"
            ]
          },
          "metadata": {},
          "execution_count": 8
        }
      ]
    },
    {
      "cell_type": "markdown",
      "source": [
        "The number of missing values in **default** feature is very large, so we can replace null values with the category unknown again and see later if this feature is really important later on"
      ],
      "metadata": {
        "id": "t9S2qdPVZb6R"
      }
    },
    {
      "cell_type": "code",
      "source": [
        "data[\"default\"].replace(to_replace=np.NaN, value=\"unknown\", inplace=True)"
      ],
      "metadata": {
        "id": "1Q3TMqN7WxwH"
      },
      "execution_count": null,
      "outputs": []
    },
    {
      "cell_type": "markdown",
      "source": [
        "For the rest of attributes, we will replace data with the most frequent category."
      ],
      "metadata": {
        "id": "y-B25_a1Y8gc"
      }
    },
    {
      "cell_type": "code",
      "source": [
        "data[\"loan\"].value_counts()"
      ],
      "metadata": {
        "colab": {
          "base_uri": "https://localhost:8080/"
        },
        "id": "L1Ybdj9RQPbU",
        "outputId": "dcc50fd0-7a87-45ec-f9fb-3cfd5886fcc9"
      },
      "execution_count": null,
      "outputs": [
        {
          "output_type": "execute_result",
          "data": {
            "text/plain": [
              "no     17954\n",
              "yes     3657\n",
              "Name: loan, dtype: int64"
            ]
          },
          "metadata": {},
          "execution_count": 10
        }
      ]
    },
    {
      "cell_type": "code",
      "source": [
        "data[\"loan\"].replace(to_replace=np.NaN, value=\"no\", inplace=True)"
      ],
      "metadata": {
        "id": "tgXpYguXXRvA"
      },
      "execution_count": null,
      "outputs": []
    },
    {
      "cell_type": "code",
      "source": [
        "data[\"housing\"].value_counts()"
      ],
      "metadata": {
        "colab": {
          "base_uri": "https://localhost:8080/"
        },
        "outputId": "771ae9da-7411-4f67-f2a8-18dae1231eb8",
        "id": "0gT0TNq-YTkT"
      },
      "execution_count": null,
      "outputs": [
        {
          "output_type": "execute_result",
          "data": {
            "text/plain": [
              "yes    11568\n",
              "no     10046\n",
              "Name: housing, dtype: int64"
            ]
          },
          "metadata": {},
          "execution_count": 12
        }
      ]
    },
    {
      "cell_type": "code",
      "source": [
        "data[\"housing\"].replace(to_replace=np.NaN, value=\"yes\", inplace=True)"
      ],
      "metadata": {
        "id": "fSB_ipLqYY15"
      },
      "execution_count": null,
      "outputs": []
    },
    {
      "cell_type": "code",
      "source": [
        "data[\"education\"].value_counts()"
      ],
      "metadata": {
        "colab": {
          "base_uri": "https://localhost:8080/"
        },
        "outputId": "2a766674-0be0-40e6-e29d-0587f538ba7d",
        "id": "QgoyiusrYmiv"
      },
      "execution_count": null,
      "outputs": [
        {
          "output_type": "execute_result",
          "data": {
            "text/plain": [
              "university.degree      6524\n",
              "high.school            5031\n",
              "basic.9y               3266\n",
              "professional.course    2853\n",
              "basic.4y               2322\n",
              "basic.6y               1349\n",
              "illiterate              161\n",
              "Name: education, dtype: int64"
            ]
          },
          "metadata": {},
          "execution_count": 14
        }
      ]
    },
    {
      "cell_type": "code",
      "source": [
        "data[\"education\"].replace(to_replace=np.NaN, value=\"university.degree\", inplace=True)"
      ],
      "metadata": {
        "id": "htqIlaN8YszO"
      },
      "execution_count": null,
      "outputs": []
    },
    {
      "cell_type": "code",
      "source": [
        "data[\"job\"].value_counts()"
      ],
      "metadata": {
        "colab": {
          "base_uri": "https://localhost:8080/"
        },
        "outputId": "7b492b66-6f43-4e4a-e3b7-6d8b218f975b",
        "id": "MrsglxHB318I"
      },
      "execution_count": null,
      "outputs": [
        {
          "output_type": "execute_result",
          "data": {
            "text/plain": [
              "admin.           5557\n",
              "blue-collar      4874\n",
              "technician       3530\n",
              "services         2083\n",
              "management       1600\n",
              "retired          1006\n",
              "entrepreneur      863\n",
              "self-employed     836\n",
              "housemaid         657\n",
              "unemployed        647\n",
              "student           573\n",
              "Name: job, dtype: int64"
            ]
          },
          "metadata": {},
          "execution_count": 16
        }
      ]
    },
    {
      "cell_type": "code",
      "source": [
        "data[\"job\"].replace(to_replace=np.NaN, value=\"admin.\", inplace=True)"
      ],
      "metadata": {
        "id": "WJcppHbr34Dy"
      },
      "execution_count": null,
      "outputs": []
    },
    {
      "cell_type": "code",
      "source": [
        "data[\"marital\"].value_counts()"
      ],
      "metadata": {
        "colab": {
          "base_uri": "https://localhost:8080/"
        },
        "id": "WmXicVJE4B3W",
        "outputId": "55ab0e46-f793-4564-ecb1-7adaac8f7ef3"
      },
      "execution_count": null,
      "outputs": [
        {
          "output_type": "execute_result",
          "data": {
            "text/plain": [
              "married     13178\n",
              "single       6344\n",
              "divorced     2658\n",
              "Name: marital, dtype: int64"
            ]
          },
          "metadata": {},
          "execution_count": 18
        }
      ]
    },
    {
      "cell_type": "code",
      "source": [
        "data[\"marital\"].replace(to_replace=np.NaN, value=\"married\", inplace=True)"
      ],
      "metadata": {
        "id": "Ys-wYjAZ4Iyx"
      },
      "execution_count": null,
      "outputs": []
    },
    {
      "cell_type": "markdown",
      "source": [
        "Check if there are any remaining nulls"
      ],
      "metadata": {
        "id": "AtOOJRIc4X1R"
      }
    },
    {
      "cell_type": "code",
      "source": [
        "data.isnull().sum()"
      ],
      "metadata": {
        "colab": {
          "base_uri": "https://localhost:8080/"
        },
        "id": "4Y1XxO2h4M01",
        "outputId": "88057a24-eb20-4798-a04c-c53cff82fdbb"
      },
      "execution_count": null,
      "outputs": [
        {
          "output_type": "execute_result",
          "data": {
            "text/plain": [
              "RecordID          0\n",
              "age               0\n",
              "job               0\n",
              "marital           0\n",
              "education         0\n",
              "default           0\n",
              "housing           0\n",
              "loan              0\n",
              "contact           0\n",
              "month             0\n",
              "day_of_week       0\n",
              "duration          0\n",
              "campaign          0\n",
              "pdays             0\n",
              "previous          0\n",
              "poutcome          0\n",
              "emp.var.rate      0\n",
              "cons.price.idx    0\n",
              "cons.conf.idx     0\n",
              "euribor3m         0\n",
              "nr.employed       0\n",
              "subscribe         0\n",
              "dtype: int64"
            ]
          },
          "metadata": {},
          "execution_count": 20
        }
      ]
    },
    {
      "cell_type": "markdown",
      "source": [
        ">## 2.3 Dealing with Duplicates"
      ],
      "metadata": {
        "id": "GiwNTpgJp4Lu"
      }
    },
    {
      "cell_type": "code",
      "source": [
        "data.duplicated().sum()"
      ],
      "metadata": {
        "colab": {
          "base_uri": "https://localhost:8080/"
        },
        "id": "IEkOf1yfpLQL",
        "outputId": "2c107619-f4f3-43b5-8a54-418712fff4eb"
      },
      "execution_count": null,
      "outputs": [
        {
          "output_type": "execute_result",
          "data": {
            "text/plain": [
              "0"
            ]
          },
          "metadata": {},
          "execution_count": 21
        }
      ]
    },
    {
      "cell_type": "markdown",
      "source": [
        "There are no duplicates"
      ],
      "metadata": {
        "id": "dMX9R0DF4hbX"
      }
    },
    {
      "cell_type": "markdown",
      "source": [
        ">## 2.4 Some Statistics\n",
        "\n"
      ],
      "metadata": {
        "id": "XE2x6wqpTnsi"
      }
    },
    {
      "cell_type": "markdown",
      "source": [
        "### Is the dataset balanced?\n"
      ],
      "metadata": {
        "id": "wy-XAVIakjvJ"
      }
    },
    {
      "cell_type": "code",
      "execution_count": null,
      "metadata": {
        "id": "30h0z3D_Zahm",
        "outputId": "dd02c892-c1c1-4ee3-d081-44426b0d4d9b",
        "colab": {
          "base_uri": "https://localhost:8080/"
        }
      },
      "outputs": [
        {
          "output_type": "display_data",
          "data": {
            "image/png": "[encoded data removed]",
            "text/plain": [
              "<Figure size 432x288 with 1 Axes>"
            ]
          },
          "metadata": {
            "needs_background": "light"
          }
        }
      ],
      "source": [
        "sns.countplot(x='subscribe',data=data)\n",
        "plt.show()"
      ]
    },
    {
      "cell_type": "markdown",
      "source": [
        "The data has so low **yes** counts compared to no"
      ],
      "metadata": {
        "id": "O6CzU1AjNZLz"
      }
    },
    {
      "cell_type": "markdown",
      "source": [
        "### How many people in each job category?"
      ],
      "metadata": {
        "id": "QMbIwbaflQxI"
      }
    },
    {
      "cell_type": "code",
      "source": [
        "sns.set(rc = {'figure.figsize':(15,8)})\n",
        "sns.countplot(x='job',data=data)\n",
        "plt.show()"
      ],
      "metadata": {
        "colab": {
          "base_uri": "https://localhost:8080/"
        },
        "id": "x2EURBCXkwru",
        "outputId": "a2e9867e-1eab-4903-8dae-579d5b4c8582"
      },
      "execution_count": null,
      "outputs": [
        {
          "output_type": "display_data",
          "data": {
            "image/png": "[encoded data removed]",
            "text/plain": [
              "<Figure size 1080x576 with 1 Axes>"
            ]
          },
          "metadata": {}
        }
      ]
    },
    {
      "cell_type": "markdown",
      "source": [
        "The most frequent jobs are admin, blue-collar, and technician job."
      ],
      "metadata": {
        "id": "rpgPPUaFNic3"
      }
    },
    {
      "cell_type": "markdown",
      "source": [
        "### How many people in each education category?"
      ],
      "metadata": {
        "id": "tUtp8fo_lAcx"
      }
    },
    {
      "cell_type": "code",
      "source": [
        "sns.countplot(x='education',data=data)\n",
        "plt.show()"
      ],
      "metadata": {
        "colab": {
          "base_uri": "https://localhost:8080/"
        },
        "outputId": "aee0ac91-4126-4994-ccfc-ae873b1f34a6",
        "id": "X6C8LPjnlHDz"
      },
      "execution_count": null,
      "outputs": [
        {
          "output_type": "display_data",
          "data": {
            "image/png": "[encoded data removed]",
            "text/plain": [
              "<Figure size 1080x576 with 1 Axes>"
            ]
          },
          "metadata": {}
        }
      ]
    },
    {
      "cell_type": "markdown",
      "source": [
        "Most people carry a university degree"
      ],
      "metadata": {
        "id": "3iJ3v7YgNvul"
      }
    },
    {
      "cell_type": "markdown",
      "source": [
        "### How many people in each marital category?"
      ],
      "metadata": {
        "id": "dFWH9P9ylawj"
      }
    },
    {
      "cell_type": "code",
      "source": [
        "sns.reset_defaults()\n",
        "sns.countplot(x='marital',data=data)\n",
        "plt.show()"
      ],
      "metadata": {
        "colab": {
          "base_uri": "https://localhost:8080/"
        },
        "outputId": "457ca4bc-6d07-4993-be0c-eca84b1788eb",
        "id": "OWQImIsGlfa0"
      },
      "execution_count": null,
      "outputs": [
        {
          "output_type": "display_data",
          "data": {
            "image/png": "[encoded data removed]",
            "text/plain": [
              "<Figure size 640x480 with 1 Axes>"
            ]
          },
          "metadata": {}
        }
      ]
    },
    {
      "cell_type": "markdown",
      "source": [
        "Most of the people are married"
      ],
      "metadata": {
        "id": "YaifWEtcPX4C"
      }
    },
    {
      "cell_type": "markdown",
      "source": [
        "### What is the relation between age and target?"
      ],
      "metadata": {
        "id": "BnPhjNBZmEPQ"
      }
    },
    {
      "cell_type": "code",
      "metadata": {
        "colab": {
          "base_uri": "https://localhost:8080/"
        },
        "id": "UecNX1tRkMum",
        "outputId": "b8cf8cec-c529-4a5a-f000-d753dc326555"
      },
      "source": [
        "sns.boxplot(data['subscribe'], data['age'])\n",
        "plt.show()"
      ],
      "execution_count": null,
      "outputs": [
        {
          "output_type": "stream",
          "name": "stderr",
          "text": [
            "/usr/local/lib/python3.7/dist-packages/seaborn/_decorators.py:43: FutureWarning: Pass the following variables as keyword args: x, y. From version 0.12, the only valid positional argument will be `data`, and passing other arguments without an explicit keyword will result in an error or misinterpretation.\n",
            "  FutureWarning\n"
          ]
        },
        {
          "output_type": "display_data",
          "data": {
            "image/png": "[encoded data removed]",
            "text/plain": [
              "<Figure size 640x480 with 1 Axes>"
            ]
          },
          "metadata": {}
        }
      ]
    },
    {
      "cell_type": "markdown",
      "source": [
        "The median for no and yes is nearly the same. But, older people seem to subscribe more (according to range after median in yes)."
      ],
      "metadata": {
        "id": "AeLdOTRuY54g"
      }
    },
    {
      "cell_type": "markdown",
      "source": [
        "### What is the relation between duration and target?"
      ],
      "metadata": {
        "id": "RO2I9uT2rVA7"
      }
    },
    {
      "cell_type": "code",
      "metadata": {
        "colab": {
          "base_uri": "https://localhost:8080/"
        },
        "outputId": "9a97ae51-ed78-43cb-ed97-782e0011c1d7",
        "id": "tCviaRn-ra2o"
      },
      "source": [
        "sns.boxplot(data['subscribe'], data['duration'])\n",
        "plt.show()"
      ],
      "execution_count": null,
      "outputs": [
        {
          "output_type": "stream",
          "name": "stderr",
          "text": [
            "/usr/local/lib/python3.7/dist-packages/seaborn/_decorators.py:43: FutureWarning: Pass the following variables as keyword args: x, y. From version 0.12, the only valid positional argument will be `data`, and passing other arguments without an explicit keyword will result in an error or misinterpretation.\n",
            "  FutureWarning\n"
          ]
        },
        {
          "output_type": "display_data",
          "data": {
            "image/png": "[encoded data removed]",
            "text/plain": [
              "<Figure size 640x480 with 1 Axes>"
            ]
          },
          "metadata": {}
        }
      ]
    },
    {
      "cell_type": "markdown",
      "source": [
        "However the median in yes is more, but duration feature doesn't affect the target (subscribe). "
      ],
      "metadata": {
        "id": "OSLsZKQsXcxN"
      }
    },
    {
      "cell_type": "markdown",
      "source": [
        "### How many client subscribed a term deposit per job category?"
      ],
      "metadata": {
        "id": "4Ek_eI52Wwy0"
      }
    },
    {
      "cell_type": "code",
      "source": [
        "sns.countplot(x='subscribe', hue='job', data=data, palette='Set2')\n",
        "plt.show()"
      ],
      "metadata": {
        "colab": {
          "base_uri": "https://localhost:8080/"
        },
        "id": "2rPuLtidW6yQ",
        "outputId": "e09f937c-3ca5-40a1-c514-a7663fcb3461"
      },
      "execution_count": null,
      "outputs": [
        {
          "output_type": "display_data",
          "data": {
            "image/png": "[encoded data removed]",
            "text/plain": [
              "<Figure size 640x480 with 1 Axes>"
            ]
          },
          "metadata": {}
        }
      ]
    },
    {
      "cell_type": "markdown",
      "source": [
        "Due to the difference between **NO**s and **YES**s in the data set, it is hard to say that more people of a certain category tend to choose no or yes over the other. However, here we do notice that the relative No of **YES**s or **NO**s among jobs in the no category is almost the same for that in the yes category."
      ],
      "metadata": {
        "id": "imGufuYJP7-P"
      }
    },
    {
      "cell_type": "markdown",
      "source": [
        "### How many client subscribed a term deposit per education category?"
      ],
      "metadata": {
        "id": "fUQU1fZapQjJ"
      }
    },
    {
      "cell_type": "code",
      "source": [
        "sns.countplot(x='subscribe', hue='education', data=data, palette='Set2')\n",
        "plt.show()"
      ],
      "metadata": {
        "colab": {
          "base_uri": "https://localhost:8080/"
        },
        "outputId": "4460167c-db50-4f97-cd42-9280daea609d",
        "id": "FUnEDPdupXwC"
      },
      "execution_count": null,
      "outputs": [
        {
          "output_type": "display_data",
          "data": {
            "image/png": "[encoded data removed]",
            "text/plain": [
              "<Figure size 640x480 with 1 Axes>"
            ]
          },
          "metadata": {}
        }
      ]
    },
    {
      "cell_type": "markdown",
      "source": [
        "As for the feature above, relative sizes here almost stay the same."
      ],
      "metadata": {
        "id": "Lm_wPbdNQjyq"
      }
    },
    {
      "cell_type": "markdown",
      "source": [
        "### How many client subscribed a term deposit per marital category?"
      ],
      "metadata": {
        "id": "6E0_y680pfLp"
      }
    },
    {
      "cell_type": "code",
      "source": [
        "sns.countplot(x='subscribe', hue='marital', data=data, palette='Set2')\n",
        "plt.show()"
      ],
      "metadata": {
        "colab": {
          "base_uri": "https://localhost:8080/"
        },
        "outputId": "737713c9-2843-49d3-9968-9de240bf6da1",
        "id": "KuMf1mJgpa8s"
      },
      "execution_count": null,
      "outputs": [
        {
          "output_type": "display_data",
          "data": {
            "image/png": "[encoded data removed]",
            "text/plain": [
              "<Figure size 640x480 with 1 Axes>"
            ]
          },
          "metadata": {}
        }
      ]
    },
    {
      "cell_type": "markdown",
      "source": [
        "Here we notice that the ratio of (married+no) to (single+no) is larger than ratio of (married+yes) to (single+yes)"
      ],
      "metadata": {
        "id": "EFWL9xseQsgx"
      }
    },
    {
      "cell_type": "markdown",
      "source": [
        ">## 2.5 Remove Outliers "
      ],
      "metadata": {
        "id": "evFFFcnQPkB2"
      }
    },
    {
      "cell_type": "code",
      "source": [
        "# calculate interquartile range\n",
        "q25, q75 = percentile(data['duration'], 25), percentile(data['duration'], 75)\n",
        "iqr = q75 - q25"
      ],
      "metadata": {
        "id": "ADXKWVwnPnKh"
      },
      "execution_count": null,
      "outputs": []
    },
    {
      "cell_type": "code",
      "source": [
        "# calculate the outlier cutoff\n",
        "cut_off = iqr * 1.5\n",
        "lower, upper = q25 - cut_off, q75 + cut_off"
      ],
      "metadata": {
        "id": "j4nlnTjLQE6D"
      },
      "execution_count": null,
      "outputs": []
    },
    {
      "cell_type": "code",
      "source": [
        "# identify outliers\n",
        "outliers = [x for x in data['duration'] if x < lower or x > upper]"
      ],
      "metadata": {
        "id": "Ae9ksAGGQIHa"
      },
      "execution_count": null,
      "outputs": []
    },
    {
      "cell_type": "code",
      "source": [
        "# remove outliers\n",
        "data.drop(data[data['duration'] < lower].index, inplace = True)\n",
        "data.drop(data[data['duration'] > upper].index, inplace = True)"
      ],
      "metadata": {
        "id": "SdaZz_xHQIs7"
      },
      "execution_count": null,
      "outputs": []
    },
    {
      "cell_type": "markdown",
      "source": [
        ">## 2.6 Encoding Target"
      ],
      "metadata": {
        "id": "GFssPiQP9NrC"
      }
    },
    {
      "cell_type": "code",
      "source": [
        "data['subscribe'].replace({\"yes\":1, \"no\":0}, inplace = True)"
      ],
      "metadata": {
        "id": "3UOhJBix9WUb"
      },
      "execution_count": null,
      "outputs": []
    },
    {
      "cell_type": "markdown",
      "source": [
        ">## 2.7 Correlation Between Features"
      ],
      "metadata": {
        "id": "Us-h4oZ4p0tH"
      }
    },
    {
      "cell_type": "code",
      "metadata": {
        "colab": {
          "base_uri": "https://localhost:8080/"
        },
        "id": "EpxBbKLJHQP4",
        "outputId": "76a73f6f-787c-4abe-e5cb-a58649073711"
      },
      "source": [
        "#heatmap for different features\n",
        "fig, ax = plt.subplots(figsize=(15,5))         # Sample figsize in inches\n",
        "sns.heatmap(data.corr(), annot = True, ax=ax, cmap=\"RdPu\");\n",
        "plt.title('Correlation between the variables')\n",
        "plt.xticks(rotation=45);"
      ],
      "execution_count": null,
      "outputs": [
        {
          "output_type": "display_data",
          "data": {
            "image/png": "[encoded data removed]",
            "text/plain": [
              "<Figure size 1500x500 with 2 Axes>"
            ]
          },
          "metadata": {}
        }
      ]
    },
    {
      "cell_type": "markdown",
      "source": [
        "Here we nontice that each feature alone do not correlate much to the target. Howver, some features provide a very low correlation (lower than 0.1). Those we assume to be not so important."
      ],
      "metadata": {
        "id": "nbhzNC0xRW6c"
      }
    },
    {
      "cell_type": "markdown",
      "metadata": {
        "id": "BSdsS7z1Imxq"
      },
      "source": [
        ">## 2.8 Drop Irrelevant Features\n",
        "\n"
      ]
    },
    {
      "cell_type": "code",
      "metadata": {
        "colab": {
          "base_uri": "https://localhost:8080/"
        },
        "id": "CGdShvLCIlym",
        "outputId": "10b50ae9-0503-4cec-bbf4-6629b1b426e0"
      },
      "source": [
        "data.drop(['age', 'duration', 'previous', 'cons.price.idx', 'cons.conf.idx'],inplace=True,axis=1)\n",
        "data.head()"
      ],
      "execution_count": null,
      "outputs": [
        {
          "output_type": "execute_result",
          "data": {
            "text/html": [
              "\n",
              "  <div id=\"df-8f19f9ad-43ba-4be9-844f-e4e50852f440\">\n",
              "    <div class=\"colab-df-container\">\n",
              "      <div>\n",
              "<style scoped>\n",
              "    .dataframe tbody tr th:only-of-type {\n",
              "        vertical-align: middle;\n",
              "    }\n",
              "\n",
              "    .dataframe tbody tr th {\n",
              "        vertical-align: top;\n",
              "    }\n",
              "\n",
              "    .dataframe thead th {\n",
              "        text-align: right;\n",
              "    }\n",
              "</style>\n",
              "<table border=\"1\" class=\"dataframe\">\n",
              "  <thead>\n",
              "    <tr style=\"text-align: right;\">\n",
              "      <th></th>\n",
              "      <th>RecordID</th>\n",
              "      <th>job</th>\n",
              "      <th>marital</th>\n",
              "      <th>education</th>\n",
              "      <th>default</th>\n",
              "      <th>housing</th>\n",
              "      <th>loan</th>\n",
              "      <th>contact</th>\n",
              "      <th>month</th>\n",
              "      <th>day_of_week</th>\n",
              "      <th>campaign</th>\n",
              "      <th>pdays</th>\n",
              "      <th>poutcome</th>\n",
              "      <th>emp.var.rate</th>\n",
              "      <th>euribor3m</th>\n",
              "      <th>nr.employed</th>\n",
              "      <th>subscribe</th>\n",
              "    </tr>\n",
              "  </thead>\n",
              "  <tbody>\n",
              "    <tr>\n",
              "      <th>0</th>\n",
              "      <td>13783</td>\n",
              "      <td>admin.</td>\n",
              "      <td>divorced</td>\n",
              "      <td>professional.course</td>\n",
              "      <td>no</td>\n",
              "      <td>yes</td>\n",
              "      <td>yes</td>\n",
              "      <td>cellular</td>\n",
              "      <td>aug</td>\n",
              "      <td>mon</td>\n",
              "      <td>1</td>\n",
              "      <td>115</td>\n",
              "      <td>failure</td>\n",
              "      <td>1.4</td>\n",
              "      <td>0.705058</td>\n",
              "      <td>4990.198481</td>\n",
              "      <td>0</td>\n",
              "    </tr>\n",
              "    <tr>\n",
              "      <th>2</th>\n",
              "      <td>20663</td>\n",
              "      <td>blue-collar</td>\n",
              "      <td>divorced</td>\n",
              "      <td>basic.9y</td>\n",
              "      <td>no</td>\n",
              "      <td>no</td>\n",
              "      <td>no</td>\n",
              "      <td>cellular</td>\n",
              "      <td>apr</td>\n",
              "      <td>wed</td>\n",
              "      <td>1</td>\n",
              "      <td>999</td>\n",
              "      <td>failure</td>\n",
              "      <td>-1.8</td>\n",
              "      <td>1.445000</td>\n",
              "      <td>5099.100000</td>\n",
              "      <td>0</td>\n",
              "    </tr>\n",
              "    <tr>\n",
              "      <th>3</th>\n",
              "      <td>13958</td>\n",
              "      <td>entrepreneur</td>\n",
              "      <td>single</td>\n",
              "      <td>high.school</td>\n",
              "      <td>yes</td>\n",
              "      <td>yes</td>\n",
              "      <td>yes</td>\n",
              "      <td>cellular</td>\n",
              "      <td>aug</td>\n",
              "      <td>fri</td>\n",
              "      <td>28</td>\n",
              "      <td>999</td>\n",
              "      <td>nonexistent</td>\n",
              "      <td>1.4</td>\n",
              "      <td>4.967000</td>\n",
              "      <td>5228.100000</td>\n",
              "      <td>1</td>\n",
              "    </tr>\n",
              "    <tr>\n",
              "      <th>4</th>\n",
              "      <td>28184</td>\n",
              "      <td>admin.</td>\n",
              "      <td>single</td>\n",
              "      <td>university.degree</td>\n",
              "      <td>no</td>\n",
              "      <td>no</td>\n",
              "      <td>no</td>\n",
              "      <td>cellular</td>\n",
              "      <td>nov</td>\n",
              "      <td>tue</td>\n",
              "      <td>1</td>\n",
              "      <td>252</td>\n",
              "      <td>success</td>\n",
              "      <td>-3.4</td>\n",
              "      <td>1.208702</td>\n",
              "      <td>5025.420036</td>\n",
              "      <td>0</td>\n",
              "    </tr>\n",
              "    <tr>\n",
              "      <th>5</th>\n",
              "      <td>10016</td>\n",
              "      <td>management</td>\n",
              "      <td>married</td>\n",
              "      <td>university.degree</td>\n",
              "      <td>no</td>\n",
              "      <td>no</td>\n",
              "      <td>no</td>\n",
              "      <td>cellular</td>\n",
              "      <td>jul</td>\n",
              "      <td>thu</td>\n",
              "      <td>1</td>\n",
              "      <td>10</td>\n",
              "      <td>nonexistent</td>\n",
              "      <td>1.4</td>\n",
              "      <td>3.461047</td>\n",
              "      <td>5133.810899</td>\n",
              "      <td>0</td>\n",
              "    </tr>\n",
              "  </tbody>\n",
              "</table>\n",
              "</div>\n",
              "      <button class=\"colab-df-convert\" onclick=\"convertToInteractive('df-8f19f9ad-43ba-4be9-844f-e4e50852f440')\"\n",
              "              title=\"Convert this dataframe to an interactive table.\"\n",
              "              style=\"display:none;\">\n",
              "        \n",
              "  <svg xmlns=\"http://www.w3.org/2000/svg\" height=\"24px\"viewBox=\"0 0 24 24\"\n",
              "       width=\"24px\">\n",
              "    <path d=\"M0 0h24v24H0V0z\" fill=\"none\"/>\n",
              "    <path d=\"M18.56 5.44l.94 2.06.94-2.06 2.06-.94-2.06-.94-.94-2.06-.94 2.06-2.06.94zm-11 1L8.5 8.5l.94-2.06 2.06-.94-2.06-.94L8.5 2.5l-.94 2.06-2.06.94zm10 10l.94 2.06.94-2.06 2.06-.94-2.06-.94-.94-2.06-.94 2.06-2.06.94z\"/><path d=\"M17.41 7.96l-1.37-1.37c-.4-.4-.92-.59-1.43-.59-.52 0-1.04.2-1.43.59L10.3 9.45l-7.72 7.72c-.78.78-.78 2.05 0 2.83L4 21.41c.39.39.9.59 1.41.59.51 0 1.02-.2 1.41-.59l7.78-7.78 2.81-2.81c.8-.78.8-2.07 0-2.86zM5.41 20L4 18.59l7.72-7.72 1.47 1.35L5.41 20z\"/>\n",
              "  </svg>\n",
              "      </button>\n",
              "      \n",
              "  <style>\n",
              "    .colab-df-container {\n",
              "      display:flex;\n",
              "      flex-wrap:wrap;\n",
              "      gap: 12px;\n",
              "    }\n",
              "\n",
              "    .colab-df-convert {\n",
              "      background-color: #E8F0FE;\n",
              "      border: none;\n",
              "      border-radius: 50%;\n",
              "      cursor: pointer;\n",
              "      display: none;\n",
              "      fill: #1967D2;\n",
              "      height: 32px;\n",
              "      padding: 0 0 0 0;\n",
              "      width: 32px;\n",
              "    }\n",
              "\n",
              "    .colab-df-convert:hover {\n",
              "      background-color: #E2EBFA;\n",
              "      box-shadow: 0px 1px 2px rgba(60, 64, 67, 0.3), 0px 1px 3px 1px rgba(60, 64, 67, 0.15);\n",
              "      fill: #174EA6;\n",
              "    }\n",
              "\n",
              "    [theme=dark] .colab-df-convert {\n",
              "      background-color: #3B4455;\n",
              "      fill: #D2E3FC;\n",
              "    }\n",
              "\n",
              "    [theme=dark] .colab-df-convert:hover {\n",
              "      background-color: #434B5C;\n",
              "      box-shadow: 0px 1px 3px 1px rgba(0, 0, 0, 0.15);\n",
              "      filter: drop-shadow(0px 1px 2px rgba(0, 0, 0, 0.3));\n",
              "      fill: #FFFFFF;\n",
              "    }\n",
              "  </style>\n",
              "\n",
              "      <script>\n",
              "        const buttonEl =\n",
              "          document.querySelector('#df-8f19f9ad-43ba-4be9-844f-e4e50852f440 button.colab-df-convert');\n",
              "        buttonEl.style.display =\n",
              "          google.colab.kernel.accessAllowed ? 'block' : 'none';\n",
              "\n",
              "        async function convertToInteractive(key) {\n",
              "          const element = document.querySelector('#df-8f19f9ad-43ba-4be9-844f-e4e50852f440');\n",
              "          const dataTable =\n",
              "            await google.colab.kernel.invokeFunction('convertToInteractive',\n",
              "                                                     [key], {});\n",
              "          if (!dataTable) return;\n",
              "\n",
              "          const docLinkHtml = 'Like what you see? Visit the ' +\n",
              "            '<a target=\"_blank\" href=https://colab.research.google.com/notebooks/data_table.ipynb>data table notebook</a>'\n",
              "            + ' to learn more about interactive tables.';\n",
              "          element.innerHTML = '';\n",
              "          dataTable['output_type'] = 'display_data';\n",
              "          await google.colab.output.renderOutput(dataTable, element);\n",
              "          const docLink = document.createElement('div');\n",
              "          docLink.innerHTML = docLinkHtml;\n",
              "          element.appendChild(docLink);\n",
              "        }\n",
              "      </script>\n",
              "    </div>\n",
              "  </div>\n",
              "  "
            ],
            "text/plain": [
              "   RecordID           job   marital  ... euribor3m  nr.employed subscribe\n",
              "0     13783        admin.  divorced  ...  0.705058  4990.198481         0\n",
              "2     20663   blue-collar  divorced  ...  1.445000  5099.100000         0\n",
              "3     13958  entrepreneur    single  ...  4.967000  5228.100000         1\n",
              "4     28184        admin.    single  ...  1.208702  5025.420036         0\n",
              "5     10016    management   married  ...  3.461047  5133.810899         0\n",
              "\n",
              "[5 rows x 17 columns]"
            ]
          },
          "metadata": {},
          "execution_count": 37
        }
      ]
    },
    {
      "cell_type": "markdown",
      "source": [
        ">## 2.9 Separating Target and Predictors\n",
        "\n"
      ],
      "metadata": {
        "id": "ty5PvKwhkBXO"
      }
    },
    {
      "cell_type": "code",
      "source": [
        "y = data['subscribe']\n",
        "x = data.drop(['subscribe'],axis=1)"
      ],
      "metadata": {
        "id": "S6pcieA7ceXF"
      },
      "execution_count": null,
      "outputs": []
    },
    {
      "cell_type": "markdown",
      "source": [
        ">## 2.10 Encoding Categorical Features\n",
        "\n"
      ],
      "metadata": {
        "id": "w-Q7ECtljB01"
      }
    },
    {
      "cell_type": "markdown",
      "source": [
        "Since encoding education feature should reflect the sequence, we use ordinal encoder."
      ],
      "metadata": {
        "id": "fJrEtM2VDTDB"
      }
    },
    {
      "cell_type": "code",
      "source": [
        "education_encoder= ce.OrdinalEncoder(cols=['education'],return_df=True,\n",
        "                           mapping=[{'col':'education',\n",
        "'mapping':{'illiterate':0,'basic.4y':1, 'basic.6y':2,'basic.9y':3,'high.school':4,'university.degree':5,'professional.course':6}}])"
      ],
      "metadata": {
        "id": "SoM67hcWfX-8"
      },
      "execution_count": null,
      "outputs": []
    },
    {
      "cell_type": "code",
      "source": [
        "x['education'] = education_encoder.fit_transform(x['education'])"
      ],
      "metadata": {
        "id": "tfq04vQphZPc"
      },
      "execution_count": null,
      "outputs": []
    },
    {
      "cell_type": "markdown",
      "source": [
        "We can encode housing and loan features by replacing yes and no with one and zero."
      ],
      "metadata": {
        "id": "8V1_rBHtDqxe"
      }
    },
    {
      "cell_type": "code",
      "source": [
        "x[\"housing\"].replace({\"yes\":1, \"no\":0}, inplace = True)"
      ],
      "metadata": {
        "id": "fV_Z7sjvjaOf"
      },
      "execution_count": null,
      "outputs": []
    },
    {
      "cell_type": "code",
      "source": [
        "x[\"loan\"].replace({\"yes\":1, \"no\":0}, inplace = True)"
      ],
      "metadata": {
        "id": "faRbETZwjZrH"
      },
      "execution_count": null,
      "outputs": []
    },
    {
      "cell_type": "markdown",
      "source": [
        "For the rest of the categorical features, we use one hot encoding."
      ],
      "metadata": {
        "id": "zCsF0_ZREDQg"
      }
    },
    {
      "cell_type": "code",
      "source": [
        "f_categorical = [\"job\", \"marital\",\"default\",\"contact\", \"month\", \"day_of_week\", \"poutcome\"]"
      ],
      "metadata": {
        "id": "w9V9k9XWJLgT"
      },
      "execution_count": null,
      "outputs": []
    },
    {
      "cell_type": "code",
      "source": [
        "x_numerical = pd.get_dummies(x, columns = f_categorical, drop_first=True)"
      ],
      "metadata": {
        "id": "CTgU5lpCcWoi"
      },
      "execution_count": null,
      "outputs": []
    },
    {
      "cell_type": "markdown",
      "source": [
        "# 3-**Split Training and Testing Datasets**"
      ],
      "metadata": {
        "id": "hlX3UIsiv1yT"
      }
    },
    {
      "cell_type": "code",
      "source": [
        "x_train , x_test , y_train , y_test = train_test_split(x_numerical, y, test_size = 0.2 , random_state = 10)"
      ],
      "metadata": {
        "id": "KQrzzBCtwCBH"
      },
      "execution_count": null,
      "outputs": []
    },
    {
      "cell_type": "markdown",
      "source": [
        "# 4-**Feature Selection**\n"
      ],
      "metadata": {
        "id": "20QSL801ui5-"
      }
    },
    {
      "cell_type": "markdown",
      "source": [
        ">## KNN"
      ],
      "metadata": {
        "id": "ghfswIQy_dW5"
      }
    },
    {
      "cell_type": "code",
      "source": [
        "sfs_knn = SequentialFeatureSelector(estimator=KNeighborsClassifier(n_neighbors=5), n_features_to_select=5 ,direction = 'forward', scoring='accuracy')\n",
        "sfs_knn.fit(x_train, y_train)\n",
        "sfs_knn.get_support()"
      ],
      "metadata": {
        "colab": {
          "base_uri": "https://localhost:8080/"
        },
        "id": "doINB_Fju2MY",
        "outputId": "9134ef8e-34b5-440e-eba1-d5ba006f92b5"
      },
      "execution_count": null,
      "outputs": [
        {
          "output_type": "execute_result",
          "data": {
            "text/plain": [
              "array([ True, False, False, False,  True,  True, False, False,  True,\n",
              "       False, False, False, False, False, False, False, False, False,\n",
              "       False,  True, False, False, False, False, False, False, False,\n",
              "       False, False, False, False, False, False, False, False, False,\n",
              "       False, False, False])"
            ]
          },
          "metadata": {},
          "execution_count": 46
        }
      ]
    },
    {
      "cell_type": "code",
      "source": [
        "x_train_knn=sfs_knn.transform(x_train)\n",
        "x_test_knn=sfs_knn.transform(x_test)"
      ],
      "metadata": {
        "id": "SoeOYCbu5kDW"
      },
      "execution_count": null,
      "outputs": []
    },
    {
      "cell_type": "markdown",
      "source": [
        ">## Logistic Regression"
      ],
      "metadata": {
        "id": "oH9yQ9I9CLwN"
      }
    },
    {
      "cell_type": "code",
      "source": [
        "sfs_logre = SequentialFeatureSelector(estimator=LogisticRegression(solver = 'liblinear', max_iter=150), n_features_to_select=5 ,direction = 'forward', scoring='accuracy')\n",
        "sfs_logre.fit(x_train, y_train)\n",
        "sfs_logre.get_support()"
      ],
      "metadata": {
        "colab": {
          "base_uri": "https://localhost:8080/"
        },
        "id": "GOQ3tVzgCPY_",
        "outputId": "67a6bef1-b09b-4228-ebdc-61dee4ed4078"
      },
      "execution_count": null,
      "outputs": [
        {
          "output_type": "execute_result",
          "data": {
            "text/plain": [
              "array([False, False, False, False, False, False, False, False, False,\n",
              "       False, False, False, False,  True, False, False, False, False,\n",
              "       False, False, False, False,  True, False, False, False, False,\n",
              "       False, False, False,  True, False, False,  True,  True, False,\n",
              "       False, False, False])"
            ]
          },
          "metadata": {},
          "execution_count": 48
        }
      ]
    },
    {
      "cell_type": "code",
      "source": [
        "x_train_logre=sfs_logre.transform(x_train)\n",
        "x_test_logre=sfs_logre.transform(x_test)"
      ],
      "metadata": {
        "id": "9N3diNC_CbHN"
      },
      "execution_count": null,
      "outputs": []
    },
    {
      "cell_type": "markdown",
      "source": [
        "# 5-**Model Selection**"
      ],
      "metadata": {
        "id": "C3RnbAim-UMd"
      }
    },
    {
      "cell_type": "markdown",
      "source": [
        ">## KNN"
      ],
      "metadata": {
        "id": "0ORsz1dY--YR"
      }
    },
    {
      "cell_type": "code",
      "execution_count": null,
      "metadata": {
        "id": "b718d931"
      },
      "outputs": [],
      "source": [
        "K_range = list(range(1, 5)) #K neighbors to try\n",
        "\n",
        "#grid parameters to try\n",
        "param_grid = {'n_neighbors': K_range, 'p': [1,2]}\n",
        "knn = KNeighborsClassifier()\n",
        "\n",
        "grid_knn = GridSearchCV(knn, param_grid, cv=10, scoring='accuracy', return_train_score=True)\n",
        "grid_search_knn=grid_knn.fit(x_train_knn, y_train)"
      ]
    },
    {
      "cell_type": "code",
      "execution_count": null,
      "metadata": {
        "id": "0c25ca1a",
        "outputId": "7f4b6548-bfc3-46dd-e5c4-55bb65de8e6b",
        "colab": {
          "base_uri": "https://localhost:8080/"
        }
      },
      "outputs": [
        {
          "output_type": "stream",
          "name": "stdout",
          "text": [
            "{'n_neighbors': 4, 'p': 1}\n",
            "Best Acc =  87.22543352601156\n"
          ]
        }
      ],
      "source": [
        "#get the best parameters\n",
        "print(grid_search_knn.best_params_)\n",
        "print('Best Acc = ', grid_search_knn.best_score_*100)"
      ]
    },
    {
      "cell_type": "code",
      "execution_count": null,
      "metadata": {
        "id": "0b0f52cc",
        "outputId": "027449bd-c784-4b72-f774-5fb10b825e1a",
        "colab": {
          "base_uri": "https://localhost:8080/"
        }
      },
      "outputs": [
        {
          "output_type": "stream",
          "name": "stdout",
          "text": [
            "Accuracy of KNN = 87.54%\n"
          ]
        }
      ],
      "source": [
        "#test \n",
        "y_pred = grid_search_knn.best_estimator_.predict(x_test_knn) \n",
        "acc = accuracy_score(y_pred, y_test)\n",
        "print('Accuracy of KNN = {}%'.format(np.round(acc*100,2)))"
      ]
    },
    {
      "cell_type": "markdown",
      "source": [
        ">## Logistic Regression"
      ],
      "metadata": {
        "id": "9oKWT6sqBx9l"
      }
    },
    {
      "cell_type": "code",
      "source": [
        "logre= LogisticRegression()\n",
        "hp = {\"solver\":['newton-cg', 'lbfgs', 'liblinear'], 'penalty':['none', 'l1', 'l2', 'elasticnet'], 'C': [1e-5, 1e-4, 1e-3, 1e-2, 1e-1, 1, 10, 100]}\n",
        "grid_logre = GridSearchCV(logre, param_grid  = hp  , cv = 5)\n",
        "grid_logre.fit(x_train_logre,y_train)\n",
        "print(f\"Best result {grid_logre.best_params_}\")"
      ],
      "metadata": {
        "colab": {
          "base_uri": "https://localhost:8080/"
        },
        "id": "xjvMt4GBMZ5S",
        "outputId": "54c9bed4-d2e2-49f6-9f3a-5e5b930af49e"
      },
      "execution_count": null,
      "outputs": [
        {
          "output_type": "stream",
          "name": "stderr",
          "text": [
            "/usr/local/lib/python3.7/dist-packages/sklearn/linear_model/_logistic.py:1484: UserWarning: Setting penalty='none' will ignore the C and l1_ratio parameters\n",
            "  \"Setting penalty='none' will ignore the C and l1_ratio parameters\"\n",
            "/usr/local/lib/python3.7/dist-packages/sklearn/linear_model/_logistic.py:1484: UserWarning: Setting penalty='none' will ignore the C and l1_ratio parameters\n",
            "  \"Setting penalty='none' will ignore the C and l1_ratio parameters\"\n",
            "/usr/local/lib/python3.7/dist-packages/sklearn/linear_model/_logistic.py:1484: UserWarning: Setting penalty='none' will ignore the C and l1_ratio parameters\n",
            "  \"Setting penalty='none' will ignore the C and l1_ratio parameters\"\n",
            "/usr/local/lib/python3.7/dist-packages/sklearn/linear_model/_logistic.py:1484: UserWarning: Setting penalty='none' will ignore the C and l1_ratio parameters\n",
            "  \"Setting penalty='none' will ignore the C and l1_ratio parameters\"\n",
            "/usr/local/lib/python3.7/dist-packages/sklearn/linear_model/_logistic.py:1484: UserWarning: Setting penalty='none' will ignore the C and l1_ratio parameters\n",
            "  \"Setting penalty='none' will ignore the C and l1_ratio parameters\"\n",
            "/usr/local/lib/python3.7/dist-packages/sklearn/linear_model/_logistic.py:1484: UserWarning: Setting penalty='none' will ignore the C and l1_ratio parameters\n",
            "  \"Setting penalty='none' will ignore the C and l1_ratio parameters\"\n",
            "/usr/local/lib/python3.7/dist-packages/sklearn/linear_model/_logistic.py:1484: UserWarning: Setting penalty='none' will ignore the C and l1_ratio parameters\n",
            "  \"Setting penalty='none' will ignore the C and l1_ratio parameters\"\n",
            "/usr/local/lib/python3.7/dist-packages/sklearn/linear_model/_logistic.py:1484: UserWarning: Setting penalty='none' will ignore the C and l1_ratio parameters\n",
            "  \"Setting penalty='none' will ignore the C and l1_ratio parameters\"\n",
            "/usr/local/lib/python3.7/dist-packages/sklearn/linear_model/_logistic.py:1484: UserWarning: Setting penalty='none' will ignore the C and l1_ratio parameters\n",
            "  \"Setting penalty='none' will ignore the C and l1_ratio parameters\"\n",
            "/usr/local/lib/python3.7/dist-packages/sklearn/linear_model/_logistic.py:1484: UserWarning: Setting penalty='none' will ignore the C and l1_ratio parameters\n",
            "  \"Setting penalty='none' will ignore the C and l1_ratio parameters\"\n",
            "/usr/local/lib/python3.7/dist-packages/sklearn/linear_model/_logistic.py:1484: UserWarning: Setting penalty='none' will ignore the C and l1_ratio parameters\n",
            "  \"Setting penalty='none' will ignore the C and l1_ratio parameters\"\n",
            "/usr/local/lib/python3.7/dist-packages/sklearn/linear_model/_logistic.py:1484: UserWarning: Setting penalty='none' will ignore the C and l1_ratio parameters\n",
            "  \"Setting penalty='none' will ignore the C and l1_ratio parameters\"\n",
            "/usr/local/lib/python3.7/dist-packages/sklearn/linear_model/_logistic.py:1484: UserWarning: Setting penalty='none' will ignore the C and l1_ratio parameters\n",
            "  \"Setting penalty='none' will ignore the C and l1_ratio parameters\"\n",
            "/usr/local/lib/python3.7/dist-packages/sklearn/linear_model/_logistic.py:1484: UserWarning: Setting penalty='none' will ignore the C and l1_ratio parameters\n",
            "  \"Setting penalty='none' will ignore the C and l1_ratio parameters\"\n",
            "/usr/local/lib/python3.7/dist-packages/sklearn/linear_model/_logistic.py:1484: UserWarning: Setting penalty='none' will ignore the C and l1_ratio parameters\n",
            "  \"Setting penalty='none' will ignore the C and l1_ratio parameters\"\n",
            "/usr/local/lib/python3.7/dist-packages/sklearn/linear_model/_logistic.py:1484: UserWarning: Setting penalty='none' will ignore the C and l1_ratio parameters\n",
            "  \"Setting penalty='none' will ignore the C and l1_ratio parameters\"\n",
            "/usr/local/lib/python3.7/dist-packages/sklearn/linear_model/_logistic.py:1484: UserWarning: Setting penalty='none' will ignore the C and l1_ratio parameters\n",
            "  \"Setting penalty='none' will ignore the C and l1_ratio parameters\"\n",
            "/usr/local/lib/python3.7/dist-packages/sklearn/linear_model/_logistic.py:1484: UserWarning: Setting penalty='none' will ignore the C and l1_ratio parameters\n",
            "  \"Setting penalty='none' will ignore the C and l1_ratio parameters\"\n",
            "/usr/local/lib/python3.7/dist-packages/sklearn/linear_model/_logistic.py:1484: UserWarning: Setting penalty='none' will ignore the C and l1_ratio parameters\n",
            "  \"Setting penalty='none' will ignore the C and l1_ratio parameters\"\n",
            "/usr/local/lib/python3.7/dist-packages/sklearn/linear_model/_logistic.py:1484: UserWarning: Setting penalty='none' will ignore the C and l1_ratio parameters\n",
            "  \"Setting penalty='none' will ignore the C and l1_ratio parameters\"\n",
            "/usr/local/lib/python3.7/dist-packages/sklearn/linear_model/_logistic.py:1484: UserWarning: Setting penalty='none' will ignore the C and l1_ratio parameters\n",
            "  \"Setting penalty='none' will ignore the C and l1_ratio parameters\"\n",
            "/usr/local/lib/python3.7/dist-packages/sklearn/linear_model/_logistic.py:1484: UserWarning: Setting penalty='none' will ignore the C and l1_ratio parameters\n",
            "  \"Setting penalty='none' will ignore the C and l1_ratio parameters\"\n",
            "/usr/local/lib/python3.7/dist-packages/sklearn/linear_model/_logistic.py:1484: UserWarning: Setting penalty='none' will ignore the C and l1_ratio parameters\n",
            "  \"Setting penalty='none' will ignore the C and l1_ratio parameters\"\n",
            "/usr/local/lib/python3.7/dist-packages/sklearn/linear_model/_logistic.py:1484: UserWarning: Setting penalty='none' will ignore the C and l1_ratio parameters\n",
            "  \"Setting penalty='none' will ignore the C and l1_ratio parameters\"\n",
            "/usr/local/lib/python3.7/dist-packages/sklearn/linear_model/_logistic.py:1484: UserWarning: Setting penalty='none' will ignore the C and l1_ratio parameters\n",
            "  \"Setting penalty='none' will ignore the C and l1_ratio parameters\"\n",
            "/usr/local/lib/python3.7/dist-packages/sklearn/linear_model/_logistic.py:1484: UserWarning: Setting penalty='none' will ignore the C and l1_ratio parameters\n",
            "  \"Setting penalty='none' will ignore the C and l1_ratio parameters\"\n",
            "/usr/local/lib/python3.7/dist-packages/sklearn/linear_model/_logistic.py:1484: UserWarning: Setting penalty='none' will ignore the C and l1_ratio parameters\n",
            "  \"Setting penalty='none' will ignore the C and l1_ratio parameters\"\n",
            "/usr/local/lib/python3.7/dist-packages/sklearn/linear_model/_logistic.py:1484: UserWarning: Setting penalty='none' will ignore the C and l1_ratio parameters\n",
            "  \"Setting penalty='none' will ignore the C and l1_ratio parameters\"\n",
            "/usr/local/lib/python3.7/dist-packages/sklearn/linear_model/_logistic.py:1484: UserWarning: Setting penalty='none' will ignore the C and l1_ratio parameters\n",
            "  \"Setting penalty='none' will ignore the C and l1_ratio parameters\"\n",
            "/usr/local/lib/python3.7/dist-packages/sklearn/linear_model/_logistic.py:1484: UserWarning: Setting penalty='none' will ignore the C and l1_ratio parameters\n",
            "  \"Setting penalty='none' will ignore the C and l1_ratio parameters\"\n",
            "/usr/local/lib/python3.7/dist-packages/sklearn/linear_model/_logistic.py:1484: UserWarning: Setting penalty='none' will ignore the C and l1_ratio parameters\n",
            "  \"Setting penalty='none' will ignore the C and l1_ratio parameters\"\n",
            "/usr/local/lib/python3.7/dist-packages/sklearn/linear_model/_logistic.py:1484: UserWarning: Setting penalty='none' will ignore the C and l1_ratio parameters\n",
            "  \"Setting penalty='none' will ignore the C and l1_ratio parameters\"\n",
            "/usr/local/lib/python3.7/dist-packages/sklearn/linear_model/_logistic.py:1484: UserWarning: Setting penalty='none' will ignore the C and l1_ratio parameters\n",
            "  \"Setting penalty='none' will ignore the C and l1_ratio parameters\"\n",
            "/usr/local/lib/python3.7/dist-packages/sklearn/linear_model/_logistic.py:1484: UserWarning: Setting penalty='none' will ignore the C and l1_ratio parameters\n",
            "  \"Setting penalty='none' will ignore the C and l1_ratio parameters\"\n",
            "/usr/local/lib/python3.7/dist-packages/sklearn/linear_model/_logistic.py:1484: UserWarning: Setting penalty='none' will ignore the C and l1_ratio parameters\n",
            "  \"Setting penalty='none' will ignore the C and l1_ratio parameters\"\n",
            "/usr/local/lib/python3.7/dist-packages/sklearn/linear_model/_logistic.py:1484: UserWarning: Setting penalty='none' will ignore the C and l1_ratio parameters\n",
            "  \"Setting penalty='none' will ignore the C and l1_ratio parameters\"\n",
            "/usr/local/lib/python3.7/dist-packages/sklearn/linear_model/_logistic.py:1484: UserWarning: Setting penalty='none' will ignore the C and l1_ratio parameters\n",
            "  \"Setting penalty='none' will ignore the C and l1_ratio parameters\"\n",
            "/usr/local/lib/python3.7/dist-packages/sklearn/linear_model/_logistic.py:1484: UserWarning: Setting penalty='none' will ignore the C and l1_ratio parameters\n",
            "  \"Setting penalty='none' will ignore the C and l1_ratio parameters\"\n",
            "/usr/local/lib/python3.7/dist-packages/sklearn/linear_model/_logistic.py:1484: UserWarning: Setting penalty='none' will ignore the C and l1_ratio parameters\n",
            "  \"Setting penalty='none' will ignore the C and l1_ratio parameters\"\n",
            "/usr/local/lib/python3.7/dist-packages/sklearn/linear_model/_logistic.py:1484: UserWarning: Setting penalty='none' will ignore the C and l1_ratio parameters\n",
            "  \"Setting penalty='none' will ignore the C and l1_ratio parameters\"\n",
            "/usr/local/lib/python3.7/dist-packages/sklearn/linear_model/_logistic.py:1484: UserWarning: Setting penalty='none' will ignore the C and l1_ratio parameters\n",
            "  \"Setting penalty='none' will ignore the C and l1_ratio parameters\"\n",
            "/usr/local/lib/python3.7/dist-packages/sklearn/linear_model/_logistic.py:1484: UserWarning: Setting penalty='none' will ignore the C and l1_ratio parameters\n",
            "  \"Setting penalty='none' will ignore the C and l1_ratio parameters\"\n",
            "/usr/local/lib/python3.7/dist-packages/sklearn/linear_model/_logistic.py:1484: UserWarning: Setting penalty='none' will ignore the C and l1_ratio parameters\n",
            "  \"Setting penalty='none' will ignore the C and l1_ratio parameters\"\n",
            "/usr/local/lib/python3.7/dist-packages/sklearn/linear_model/_logistic.py:1484: UserWarning: Setting penalty='none' will ignore the C and l1_ratio parameters\n",
            "  \"Setting penalty='none' will ignore the C and l1_ratio parameters\"\n",
            "/usr/local/lib/python3.7/dist-packages/sklearn/linear_model/_logistic.py:1484: UserWarning: Setting penalty='none' will ignore the C and l1_ratio parameters\n",
            "  \"Setting penalty='none' will ignore the C and l1_ratio parameters\"\n",
            "/usr/local/lib/python3.7/dist-packages/sklearn/linear_model/_logistic.py:1484: UserWarning: Setting penalty='none' will ignore the C and l1_ratio parameters\n",
            "  \"Setting penalty='none' will ignore the C and l1_ratio parameters\"\n",
            "/usr/local/lib/python3.7/dist-packages/sklearn/linear_model/_logistic.py:1484: UserWarning: Setting penalty='none' will ignore the C and l1_ratio parameters\n",
            "  \"Setting penalty='none' will ignore the C and l1_ratio parameters\"\n",
            "/usr/local/lib/python3.7/dist-packages/sklearn/linear_model/_logistic.py:1484: UserWarning: Setting penalty='none' will ignore the C and l1_ratio parameters\n",
            "  \"Setting penalty='none' will ignore the C and l1_ratio parameters\"\n",
            "/usr/local/lib/python3.7/dist-packages/sklearn/linear_model/_logistic.py:1484: UserWarning: Setting penalty='none' will ignore the C and l1_ratio parameters\n",
            "  \"Setting penalty='none' will ignore the C and l1_ratio parameters\"\n",
            "/usr/local/lib/python3.7/dist-packages/sklearn/linear_model/_logistic.py:1484: UserWarning: Setting penalty='none' will ignore the C and l1_ratio parameters\n",
            "  \"Setting penalty='none' will ignore the C and l1_ratio parameters\"\n",
            "/usr/local/lib/python3.7/dist-packages/sklearn/linear_model/_logistic.py:1484: UserWarning: Setting penalty='none' will ignore the C and l1_ratio parameters\n",
            "  \"Setting penalty='none' will ignore the C and l1_ratio parameters\"\n",
            "/usr/local/lib/python3.7/dist-packages/sklearn/linear_model/_logistic.py:1484: UserWarning: Setting penalty='none' will ignore the C and l1_ratio parameters\n",
            "  \"Setting penalty='none' will ignore the C and l1_ratio parameters\"\n",
            "/usr/local/lib/python3.7/dist-packages/sklearn/linear_model/_logistic.py:1484: UserWarning: Setting penalty='none' will ignore the C and l1_ratio parameters\n",
            "  \"Setting penalty='none' will ignore the C and l1_ratio parameters\"\n",
            "/usr/local/lib/python3.7/dist-packages/sklearn/linear_model/_logistic.py:1484: UserWarning: Setting penalty='none' will ignore the C and l1_ratio parameters\n",
            "  \"Setting penalty='none' will ignore the C and l1_ratio parameters\"\n",
            "/usr/local/lib/python3.7/dist-packages/sklearn/linear_model/_logistic.py:1484: UserWarning: Setting penalty='none' will ignore the C and l1_ratio parameters\n",
            "  \"Setting penalty='none' will ignore the C and l1_ratio parameters\"\n",
            "/usr/local/lib/python3.7/dist-packages/sklearn/linear_model/_logistic.py:1484: UserWarning: Setting penalty='none' will ignore the C and l1_ratio parameters\n",
            "  \"Setting penalty='none' will ignore the C and l1_ratio parameters\"\n",
            "/usr/local/lib/python3.7/dist-packages/sklearn/linear_model/_logistic.py:1484: UserWarning: Setting penalty='none' will ignore the C and l1_ratio parameters\n",
            "  \"Setting penalty='none' will ignore the C and l1_ratio parameters\"\n",
            "/usr/local/lib/python3.7/dist-packages/sklearn/linear_model/_logistic.py:1484: UserWarning: Setting penalty='none' will ignore the C and l1_ratio parameters\n",
            "  \"Setting penalty='none' will ignore the C and l1_ratio parameters\"\n",
            "/usr/local/lib/python3.7/dist-packages/sklearn/linear_model/_logistic.py:1484: UserWarning: Setting penalty='none' will ignore the C and l1_ratio parameters\n",
            "  \"Setting penalty='none' will ignore the C and l1_ratio parameters\"\n",
            "/usr/local/lib/python3.7/dist-packages/sklearn/linear_model/_logistic.py:1484: UserWarning: Setting penalty='none' will ignore the C and l1_ratio parameters\n",
            "  \"Setting penalty='none' will ignore the C and l1_ratio parameters\"\n",
            "/usr/local/lib/python3.7/dist-packages/sklearn/linear_model/_logistic.py:1484: UserWarning: Setting penalty='none' will ignore the C and l1_ratio parameters\n",
            "  \"Setting penalty='none' will ignore the C and l1_ratio parameters\"\n",
            "/usr/local/lib/python3.7/dist-packages/sklearn/linear_model/_logistic.py:1484: UserWarning: Setting penalty='none' will ignore the C and l1_ratio parameters\n",
            "  \"Setting penalty='none' will ignore the C and l1_ratio parameters\"\n",
            "/usr/local/lib/python3.7/dist-packages/sklearn/linear_model/_logistic.py:1484: UserWarning: Setting penalty='none' will ignore the C and l1_ratio parameters\n",
            "  \"Setting penalty='none' will ignore the C and l1_ratio parameters\"\n",
            "/usr/local/lib/python3.7/dist-packages/sklearn/linear_model/_logistic.py:1484: UserWarning: Setting penalty='none' will ignore the C and l1_ratio parameters\n",
            "  \"Setting penalty='none' will ignore the C and l1_ratio parameters\"\n",
            "/usr/local/lib/python3.7/dist-packages/sklearn/linear_model/_logistic.py:1484: UserWarning: Setting penalty='none' will ignore the C and l1_ratio parameters\n",
            "  \"Setting penalty='none' will ignore the C and l1_ratio parameters\"\n",
            "/usr/local/lib/python3.7/dist-packages/sklearn/linear_model/_logistic.py:1484: UserWarning: Setting penalty='none' will ignore the C and l1_ratio parameters\n",
            "  \"Setting penalty='none' will ignore the C and l1_ratio parameters\"\n",
            "/usr/local/lib/python3.7/dist-packages/sklearn/linear_model/_logistic.py:1484: UserWarning: Setting penalty='none' will ignore the C and l1_ratio parameters\n",
            "  \"Setting penalty='none' will ignore the C and l1_ratio parameters\"\n",
            "/usr/local/lib/python3.7/dist-packages/sklearn/linear_model/_logistic.py:1484: UserWarning: Setting penalty='none' will ignore the C and l1_ratio parameters\n",
            "  \"Setting penalty='none' will ignore the C and l1_ratio parameters\"\n",
            "/usr/local/lib/python3.7/dist-packages/sklearn/linear_model/_logistic.py:1484: UserWarning: Setting penalty='none' will ignore the C and l1_ratio parameters\n",
            "  \"Setting penalty='none' will ignore the C and l1_ratio parameters\"\n",
            "/usr/local/lib/python3.7/dist-packages/sklearn/linear_model/_logistic.py:1484: UserWarning: Setting penalty='none' will ignore the C and l1_ratio parameters\n",
            "  \"Setting penalty='none' will ignore the C and l1_ratio parameters\"\n"
          ]
        },
        {
          "output_type": "stream",
          "name": "stdout",
          "text": [
            "Best result {'C': 1, 'penalty': 'l1', 'solver': 'liblinear'}\n"
          ]
        },
        {
          "output_type": "stream",
          "name": "stderr",
          "text": [
            "/usr/local/lib/python3.7/dist-packages/sklearn/model_selection/_validation.py:372: FitFailedWarning: \n",
            "240 fits failed out of a total of 480.\n",
            "The score on these train-test partitions for these parameters will be set to nan.\n",
            "If these failures are not expected, you can try to debug them by setting error_score='raise'.\n",
            "\n",
            "Below are more details about the failures:\n",
            "--------------------------------------------------------------------------------\n",
            "40 fits failed with the following error:\n",
            "Traceback (most recent call last):\n",
            "  File \"/usr/local/lib/python3.7/dist-packages/sklearn/model_selection/_validation.py\", line 681, in _fit_and_score\n",
            "    estimator.fit(X_train, y_train, **fit_params)\n",
            "  File \"/usr/local/lib/python3.7/dist-packages/sklearn/linear_model/_logistic.py\", line 1461, in fit\n",
            "    solver = _check_solver(self.solver, self.penalty, self.dual)\n",
            "  File \"/usr/local/lib/python3.7/dist-packages/sklearn/linear_model/_logistic.py\", line 464, in _check_solver\n",
            "    raise ValueError(\"penalty='none' is not supported for the liblinear solver\")\n",
            "ValueError: penalty='none' is not supported for the liblinear solver\n",
            "\n",
            "--------------------------------------------------------------------------------\n",
            "40 fits failed with the following error:\n",
            "Traceback (most recent call last):\n",
            "  File \"/usr/local/lib/python3.7/dist-packages/sklearn/model_selection/_validation.py\", line 681, in _fit_and_score\n",
            "    estimator.fit(X_train, y_train, **fit_params)\n",
            "  File \"/usr/local/lib/python3.7/dist-packages/sklearn/linear_model/_logistic.py\", line 1461, in fit\n",
            "    solver = _check_solver(self.solver, self.penalty, self.dual)\n",
            "  File \"/usr/local/lib/python3.7/dist-packages/sklearn/linear_model/_logistic.py\", line 449, in _check_solver\n",
            "    % (solver, penalty)\n",
            "ValueError: Solver newton-cg supports only 'l2' or 'none' penalties, got l1 penalty.\n",
            "\n",
            "--------------------------------------------------------------------------------\n",
            "40 fits failed with the following error:\n",
            "Traceback (most recent call last):\n",
            "  File \"/usr/local/lib/python3.7/dist-packages/sklearn/model_selection/_validation.py\", line 681, in _fit_and_score\n",
            "    estimator.fit(X_train, y_train, **fit_params)\n",
            "  File \"/usr/local/lib/python3.7/dist-packages/sklearn/linear_model/_logistic.py\", line 1461, in fit\n",
            "    solver = _check_solver(self.solver, self.penalty, self.dual)\n",
            "  File \"/usr/local/lib/python3.7/dist-packages/sklearn/linear_model/_logistic.py\", line 449, in _check_solver\n",
            "    % (solver, penalty)\n",
            "ValueError: Solver lbfgs supports only 'l2' or 'none' penalties, got l1 penalty.\n",
            "\n",
            "--------------------------------------------------------------------------------\n",
            "40 fits failed with the following error:\n",
            "Traceback (most recent call last):\n",
            "  File \"/usr/local/lib/python3.7/dist-packages/sklearn/model_selection/_validation.py\", line 681, in _fit_and_score\n",
            "    estimator.fit(X_train, y_train, **fit_params)\n",
            "  File \"/usr/local/lib/python3.7/dist-packages/sklearn/linear_model/_logistic.py\", line 1461, in fit\n",
            "    solver = _check_solver(self.solver, self.penalty, self.dual)\n",
            "  File \"/usr/local/lib/python3.7/dist-packages/sklearn/linear_model/_logistic.py\", line 449, in _check_solver\n",
            "    % (solver, penalty)\n",
            "ValueError: Solver newton-cg supports only 'l2' or 'none' penalties, got elasticnet penalty.\n",
            "\n",
            "--------------------------------------------------------------------------------\n",
            "40 fits failed with the following error:\n",
            "Traceback (most recent call last):\n",
            "  File \"/usr/local/lib/python3.7/dist-packages/sklearn/model_selection/_validation.py\", line 681, in _fit_and_score\n",
            "    estimator.fit(X_train, y_train, **fit_params)\n",
            "  File \"/usr/local/lib/python3.7/dist-packages/sklearn/linear_model/_logistic.py\", line 1461, in fit\n",
            "    solver = _check_solver(self.solver, self.penalty, self.dual)\n",
            "  File \"/usr/local/lib/python3.7/dist-packages/sklearn/linear_model/_logistic.py\", line 449, in _check_solver\n",
            "    % (solver, penalty)\n",
            "ValueError: Solver lbfgs supports only 'l2' or 'none' penalties, got elasticnet penalty.\n",
            "\n",
            "--------------------------------------------------------------------------------\n",
            "40 fits failed with the following error:\n",
            "Traceback (most recent call last):\n",
            "  File \"/usr/local/lib/python3.7/dist-packages/sklearn/model_selection/_validation.py\", line 681, in _fit_and_score\n",
            "    estimator.fit(X_train, y_train, **fit_params)\n",
            "  File \"/usr/local/lib/python3.7/dist-packages/sklearn/linear_model/_logistic.py\", line 1461, in fit\n",
            "    solver = _check_solver(self.solver, self.penalty, self.dual)\n",
            "  File \"/usr/local/lib/python3.7/dist-packages/sklearn/linear_model/_logistic.py\", line 459, in _check_solver\n",
            "    solver\n",
            "ValueError: Only 'saga' solver supports elasticnet penalty, got solver=liblinear.\n",
            "\n",
            "  warnings.warn(some_fits_failed_message, FitFailedWarning)\n",
            "/usr/local/lib/python3.7/dist-packages/sklearn/model_selection/_search.py:972: UserWarning: One or more of the test scores are non-finite: [0.87086705 0.87086705        nan        nan        nan 0.86884393\n",
            " 0.86884393 0.86884393 0.86884393        nan        nan        nan\n",
            " 0.87086705 0.87086705        nan        nan        nan 0.86884393\n",
            " 0.86884393 0.86884393 0.86884393        nan        nan        nan\n",
            " 0.87086705 0.87086705        nan        nan        nan 0.86884393\n",
            " 0.86884393 0.86884393 0.86884393        nan        nan        nan\n",
            " 0.87086705 0.87086705        nan        nan        nan 0.86884393\n",
            " 0.86884393 0.86884393 0.86884393        nan        nan        nan\n",
            " 0.87086705 0.87086705        nan        nan        nan 0.86982659\n",
            " 0.86919075 0.86919075 0.86919075        nan        nan        nan\n",
            " 0.87086705 0.87086705        nan        nan        nan 0.87121387\n",
            " 0.87121387 0.87121387 0.87121387        nan        nan        nan\n",
            " 0.87086705 0.87086705        nan        nan        nan 0.87086705\n",
            " 0.87086705 0.87086705 0.87086705        nan        nan        nan\n",
            " 0.87086705 0.87086705        nan        nan        nan 0.87086705\n",
            " 0.87086705 0.87086705 0.87086705        nan        nan        nan]\n",
            "  category=UserWarning,\n"
          ]
        }
      ]
    },
    {
      "cell_type": "code",
      "execution_count": null,
      "metadata": {
        "outputId": "1a04d450-56ad-44ca-90d8-b7d8b84eee80",
        "colab": {
          "base_uri": "https://localhost:8080/"
        },
        "id": "8a9WI09zOhYQ"
      },
      "outputs": [
        {
          "output_type": "stream",
          "name": "stdout",
          "text": [
            "Accuracy of logistic regression = 87.01%\n"
          ]
        }
      ],
      "source": [
        "#test \n",
        "y_pred = grid_logre.best_estimator_.predict(x_test_logre) \n",
        "acc = accuracy_score(y_pred, y_test)\n",
        "print('Accuracy of logistic regression = {}%'.format(np.round(acc*100,2)))"
      ]
    },
    {
      "cell_type": "markdown",
      "source": [
        ">## Decision Tree"
      ],
      "metadata": {
        "id": "BsbNK2en_B8M"
      }
    },
    {
      "cell_type": "code",
      "source": [
        "clf = tree.DecisionTreeClassifier()\n",
        "hp = {\"criterion\":['gini','entropy'], 'max_depth':np.arange(3,5)}\n",
        "grid_dt = GridSearchCV(clf, param_grid  = hp  , cv = 5)\n",
        "grid_dt.fit(x_train,y_train)\n",
        "print(f\"Best result {grid_dt.best_params_}\")"
      ],
      "metadata": {
        "colab": {
          "base_uri": "https://localhost:8080/"
        },
        "id": "MV1sIqYUAiw7",
        "outputId": "a81c6313-c7ed-4139-8c5b-e91fc4c377fd"
      },
      "execution_count": null,
      "outputs": [
        {
          "output_type": "stream",
          "name": "stdout",
          "text": [
            "Best result {'criterion': 'entropy', 'max_depth': 3}\n"
          ]
        }
      ]
    },
    {
      "cell_type": "code",
      "execution_count": null,
      "metadata": {
        "outputId": "13cceba5-8765-441d-86eb-140d5ae520cb",
        "colab": {
          "base_uri": "https://localhost:8080/"
        },
        "id": "-WUO8Dr2K2wk"
      },
      "outputs": [
        {
          "output_type": "stream",
          "name": "stdout",
          "text": [
            "Accuracy of decision tree = 87.86%\n"
          ]
        }
      ],
      "source": [
        "#test \n",
        "y_pred = grid_dt.best_estimator_.predict(x_test) \n",
        "acc = accuracy_score(y_pred, y_test)\n",
        "print('Accuracy of decision tree = {}%'.format(np.round(acc*100,2)))"
      ]
    },
    {
      "cell_type": "markdown",
      "source": [
        "Visualize decision tree"
      ],
      "metadata": {
        "id": "EJHLSeFBFOlf"
      }
    },
    {
      "cell_type": "code",
      "source": [
        "clf = tree.DecisionTreeClassifier(max_depth = 4)\n",
        "clf.fit(x_train, y_train)\n",
        "dot_data = tree.export_graphviz(clf, out_file=None) \n",
        "graph = graphviz.Source(dot_data) \n",
        "dot_data = tree.export_graphviz(clf, out_file=None, \n",
        "                                feature_names=x_train.columns.values,\n",
        "                                filled=True, rounded=True,  \n",
        "                                special_characters=True)  \n",
        "graph = graphviz.Source(dot_data)  \n",
        "graph"
      ],
      "metadata": {
        "colab": {
          "base_uri": "https://localhost:8080/"
        },
        "id": "Wl0rlGNVk4m7",
        "outputId": "eb1b55a7-d20c-400a-f45e-8d7e60a0f7ea"
      },
      "execution_count": null,
      "outputs": [
        {
          "output_type": "execute_result",
          "data": {
            "text/plain": [
              "<graphviz.files.Source at 0x7faee64e3890>"
            ],
            "image/svg+xml": "<?xml version=\"1.0\" encoding=\"UTF-8\" standalone=\"no\"?>\n<!DOCTYPE svg PUBLIC \"-//W3C//DTD SVG 1.1//EN\"\n \"http://www.w3.org/Graphics/SVG/1.1/DTD/svg11.dtd\">\n<!-- Generated by graphviz version 2.40.1 (20161225.0304)\n -->\n<!-- Title: Tree Pages: 1 -->\n<svg width=\"2179pt\" height=\"477pt\"\n viewBox=\"0.00 0.00 2178.50 477.00\" xmlns=\"http://www.w3.org/2000/svg\" xmlns:xlink=\"http://www.w3.org/1999/xlink\">\n<g id=\"graph0\" class=\"graph\" transform=\"scale(1 1) rotate(0) translate(4 473)\">\n<title>Tree</title>\n<polygon fill=\"#ffffff\" stroke=\"transparent\" points=\"-4,4 -4,-473 2174.5,-473 2174.5,4 -4,4\"/>\n<!-- 0 -->\n<g id=\"node1\" class=\"node\">\n<title>0</title>\n<path fill=\"#e99457\" stroke=\"#000000\" d=\"M1160,-469C1160,-469 1027,-469 1027,-469 1021,-469 1015,-463 1015,-457 1015,-457 1015,-413 1015,-413 1015,-407 1021,-401 1027,-401 1027,-401 1160,-401 1160,-401 1166,-401 1172,-407 1172,-413 1172,-413 1172,-457 1172,-457 1172,-463 1166,-469 1160,-469\"/>\n<text text-anchor=\"start\" x=\"1028.5\" y=\"-453.8\" font-family=\"Helvetica,sans-Serif\" font-size=\"14.00\" fill=\"#000000\">RecordID ≤ 26414.0</text>\n<text text-anchor=\"start\" x=\"1055.5\" y=\"-438.8\" font-family=\"Helvetica,sans-Serif\" font-size=\"14.00\" fill=\"#000000\">gini = 0.228</text>\n<text text-anchor=\"start\" x=\"1037.5\" y=\"-423.8\" font-family=\"Helvetica,sans-Serif\" font-size=\"14.00\" fill=\"#000000\">samples = 17300</text>\n<text text-anchor=\"start\" x=\"1023\" y=\"-408.8\" font-family=\"Helvetica,sans-Serif\" font-size=\"14.00\" fill=\"#000000\">value = [15031, 2269]</text>\n</g>\n<!-- 1 -->\n<g id=\"node2\" class=\"node\">\n<title>1</title>\n<path fill=\"#e78d4c\" stroke=\"#000000\" d=\"M895,-365C895,-365 762,-365 762,-365 756,-365 750,-359 750,-353 750,-353 750,-309 750,-309 750,-303 756,-297 762,-297 762,-297 895,-297 895,-297 901,-297 907,-303 907,-309 907,-309 907,-353 907,-353 907,-359 901,-365 895,-365\"/>\n<text text-anchor=\"start\" x=\"774.5\" y=\"-349.8\" font-family=\"Helvetica,sans-Serif\" font-size=\"14.00\" fill=\"#000000\">campaign ≤ 18.5</text>\n<text text-anchor=\"start\" x=\"790.5\" y=\"-334.8\" font-family=\"Helvetica,sans-Serif\" font-size=\"14.00\" fill=\"#000000\">gini = 0.159</text>\n<text text-anchor=\"start\" x=\"772.5\" y=\"-319.8\" font-family=\"Helvetica,sans-Serif\" font-size=\"14.00\" fill=\"#000000\">samples = 15228</text>\n<text text-anchor=\"start\" x=\"758\" y=\"-304.8\" font-family=\"Helvetica,sans-Serif\" font-size=\"14.00\" fill=\"#000000\">value = [13903, 1325]</text>\n</g>\n<!-- 0&#45;&gt;1 -->\n<g id=\"edge1\" class=\"edge\">\n<title>0&#45;&gt;1</title>\n<path fill=\"none\" stroke=\"#000000\" d=\"M1014.7087,-404.0782C984.014,-392.0319 948.6903,-378.169 917.1149,-365.7772\"/>\n<polygon fill=\"#000000\" stroke=\"#000000\" points=\"918.0327,-362.3775 907.4453,-361.9823 915.4754,-368.8937 918.0327,-362.3775\"/>\n<text text-anchor=\"middle\" x=\"917.4429\" y=\"-381.1962\" font-family=\"Helvetica,sans-Serif\" font-size=\"14.00\" fill=\"#000000\">True</text>\n</g>\n<!-- 16 -->\n<g id=\"node17\" class=\"node\">\n<title>16</title>\n<path fill=\"#fbeadf\" stroke=\"#000000\" d=\"M1418.5,-365C1418.5,-365 1302.5,-365 1302.5,-365 1296.5,-365 1290.5,-359 1290.5,-353 1290.5,-353 1290.5,-309 1290.5,-309 1290.5,-303 1296.5,-297 1302.5,-297 1302.5,-297 1418.5,-297 1418.5,-297 1424.5,-297 1430.5,-303 1430.5,-309 1430.5,-309 1430.5,-353 1430.5,-353 1430.5,-359 1424.5,-365 1418.5,-365\"/>\n<text text-anchor=\"start\" x=\"1318.5\" y=\"-349.8\" font-family=\"Helvetica,sans-Serif\" font-size=\"14.00\" fill=\"#000000\">pdays ≤ 16.5</text>\n<text text-anchor=\"start\" x=\"1322.5\" y=\"-334.8\" font-family=\"Helvetica,sans-Serif\" font-size=\"14.00\" fill=\"#000000\">gini = 0.496</text>\n<text text-anchor=\"start\" x=\"1308.5\" y=\"-319.8\" font-family=\"Helvetica,sans-Serif\" font-size=\"14.00\" fill=\"#000000\">samples = 2072</text>\n<text text-anchor=\"start\" x=\"1298.5\" y=\"-304.8\" font-family=\"Helvetica,sans-Serif\" font-size=\"14.00\" fill=\"#000000\">value = [1128, 944]</text>\n</g>\n<!-- 0&#45;&gt;16 -->\n<g id=\"edge16\" class=\"edge\">\n<title>0&#45;&gt;16</title>\n<path fill=\"none\" stroke=\"#000000\" d=\"M1172.1647,-404.3591C1206.3319,-391.0505 1246.2992,-375.4827 1280.6038,-362.1206\"/>\n<polygon fill=\"#000000\" stroke=\"#000000\" points=\"1282.072,-365.3049 1290.1198,-358.414 1279.5313,-358.7823 1282.072,-365.3049\"/>\n<text text-anchor=\"middle\" x=\"1280.0637\" y=\"-377.6024\" font-family=\"Helvetica,sans-Serif\" font-size=\"14.00\" fill=\"#000000\">False</text>\n</g>\n<!-- 2 -->\n<g id=\"node3\" class=\"node\">\n<title>2</title>\n<path fill=\"#e78b48\" stroke=\"#000000\" d=\"M513,-261C513,-261 380,-261 380,-261 374,-261 368,-255 368,-249 368,-249 368,-205 368,-205 368,-199 374,-193 380,-193 380,-193 513,-193 513,-193 519,-193 525,-199 525,-205 525,-205 525,-249 525,-249 525,-255 519,-261 513,-261\"/>\n<text text-anchor=\"start\" x=\"392\" y=\"-245.8\" font-family=\"Helvetica,sans-Serif\" font-size=\"14.00\" fill=\"#000000\">month_mar ≤ 0.5</text>\n<text text-anchor=\"start\" x=\"408.5\" y=\"-230.8\" font-family=\"Helvetica,sans-Serif\" font-size=\"14.00\" fill=\"#000000\">gini = 0.134</text>\n<text text-anchor=\"start\" x=\"390.5\" y=\"-215.8\" font-family=\"Helvetica,sans-Serif\" font-size=\"14.00\" fill=\"#000000\">samples = 14612</text>\n<text text-anchor=\"start\" x=\"376\" y=\"-200.8\" font-family=\"Helvetica,sans-Serif\" font-size=\"14.00\" fill=\"#000000\">value = [13555, 1057]</text>\n</g>\n<!-- 1&#45;&gt;2 -->\n<g id=\"edge2\" class=\"edge\">\n<title>1&#45;&gt;2</title>\n<path fill=\"none\" stroke=\"#000000\" d=\"M749.8125,-309.5772C687.2814,-292.5531 599.8411,-268.7473 534.902,-251.0675\"/>\n<polygon fill=\"#000000\" stroke=\"#000000\" points=\"535.6536,-247.6449 525.0854,-248.395 533.8147,-254.399 535.6536,-247.6449\"/>\n</g>\n<!-- 9 -->\n<g id=\"node10\" class=\"node\">\n<title>9</title>\n<path fill=\"#f9e2d1\" stroke=\"#000000\" d=\"M882.5,-261C882.5,-261 774.5,-261 774.5,-261 768.5,-261 762.5,-255 762.5,-249 762.5,-249 762.5,-205 762.5,-205 762.5,-199 768.5,-193 774.5,-193 774.5,-193 882.5,-193 882.5,-193 888.5,-193 894.5,-199 894.5,-205 894.5,-205 894.5,-249 894.5,-249 894.5,-255 888.5,-261 882.5,-261\"/>\n<text text-anchor=\"start\" x=\"773\" y=\"-245.8\" font-family=\"Helvetica,sans-Serif\" font-size=\"14.00\" fill=\"#000000\">default_yes ≤ 0.5</text>\n<text text-anchor=\"start\" x=\"790.5\" y=\"-230.8\" font-family=\"Helvetica,sans-Serif\" font-size=\"14.00\" fill=\"#000000\">gini = 0.492</text>\n<text text-anchor=\"start\" x=\"780.5\" y=\"-215.8\" font-family=\"Helvetica,sans-Serif\" font-size=\"14.00\" fill=\"#000000\">samples = 616</text>\n<text text-anchor=\"start\" x=\"770.5\" y=\"-200.8\" font-family=\"Helvetica,sans-Serif\" font-size=\"14.00\" fill=\"#000000\">value = [348, 268]</text>\n</g>\n<!-- 1&#45;&gt;9 -->\n<g id=\"edge9\" class=\"edge\">\n<title>1&#45;&gt;9</title>\n<path fill=\"none\" stroke=\"#000000\" d=\"M828.5,-296.9465C828.5,-288.776 828.5,-279.9318 828.5,-271.3697\"/>\n<polygon fill=\"#000000\" stroke=\"#000000\" points=\"832.0001,-271.13 828.5,-261.13 825.0001,-271.13 832.0001,-271.13\"/>\n</g>\n<!-- 3 -->\n<g id=\"node4\" class=\"node\">\n<title>3</title>\n<path fill=\"#e78a48\" stroke=\"#000000\" d=\"M287,-157C287,-157 162,-157 162,-157 156,-157 150,-151 150,-145 150,-145 150,-101 150,-101 150,-95 156,-89 162,-89 162,-89 287,-89 287,-89 293,-89 299,-95 299,-101 299,-101 299,-145 299,-145 299,-151 293,-157 287,-157\"/>\n<text text-anchor=\"start\" x=\"172.5\" y=\"-141.8\" font-family=\"Helvetica,sans-Serif\" font-size=\"14.00\" fill=\"#000000\">month_oct ≤ 0.5</text>\n<text text-anchor=\"start\" x=\"186.5\" y=\"-126.8\" font-family=\"Helvetica,sans-Serif\" font-size=\"14.00\" fill=\"#000000\">gini = 0.127</text>\n<text text-anchor=\"start\" x=\"168.5\" y=\"-111.8\" font-family=\"Helvetica,sans-Serif\" font-size=\"14.00\" fill=\"#000000\">samples = 14469</text>\n<text text-anchor=\"start\" x=\"158\" y=\"-96.8\" font-family=\"Helvetica,sans-Serif\" font-size=\"14.00\" fill=\"#000000\">value = [13481, 988]</text>\n</g>\n<!-- 2&#45;&gt;3 -->\n<g id=\"edge3\" class=\"edge\">\n<title>2&#45;&gt;3</title>\n<path fill=\"none\" stroke=\"#000000\" d=\"M373.8089,-192.9465C352.3433,-182.8906 328.6991,-171.814 306.6804,-161.4989\"/>\n<polygon fill=\"#000000\" stroke=\"#000000\" points=\"307.8948,-158.2028 297.3544,-157.13 304.9252,-164.5418 307.8948,-158.2028\"/>\n</g>\n<!-- 6 -->\n<g id=\"node7\" class=\"node\">\n<title>6</title>\n<path fill=\"#fdf6f2\" stroke=\"#000000\" d=\"M522.5,-157C522.5,-157 370.5,-157 370.5,-157 364.5,-157 358.5,-151 358.5,-145 358.5,-145 358.5,-101 358.5,-101 358.5,-95 364.5,-89 370.5,-89 370.5,-89 522.5,-89 522.5,-89 528.5,-89 534.5,-95 534.5,-101 534.5,-101 534.5,-145 534.5,-145 534.5,-151 528.5,-157 522.5,-157\"/>\n<text text-anchor=\"start\" x=\"366.5\" y=\"-141.8\" font-family=\"Helvetica,sans-Serif\" font-size=\"14.00\" fill=\"#000000\">day_of_week_mon ≤ 0.5</text>\n<text text-anchor=\"start\" x=\"408.5\" y=\"-126.8\" font-family=\"Helvetica,sans-Serif\" font-size=\"14.00\" fill=\"#000000\">gini = 0.499</text>\n<text text-anchor=\"start\" x=\"398.5\" y=\"-111.8\" font-family=\"Helvetica,sans-Serif\" font-size=\"14.00\" fill=\"#000000\">samples = 143</text>\n<text text-anchor=\"start\" x=\"396.5\" y=\"-96.8\" font-family=\"Helvetica,sans-Serif\" font-size=\"14.00\" fill=\"#000000\">value = [74, 69]</text>\n</g>\n<!-- 2&#45;&gt;6 -->\n<g id=\"edge6\" class=\"edge\">\n<title>2&#45;&gt;6</title>\n<path fill=\"none\" stroke=\"#000000\" d=\"M446.5,-192.9465C446.5,-184.776 446.5,-175.9318 446.5,-167.3697\"/>\n<polygon fill=\"#000000\" stroke=\"#000000\" points=\"450.0001,-167.13 446.5,-157.13 443.0001,-167.13 450.0001,-167.13\"/>\n</g>\n<!-- 4 -->\n<g id=\"node5\" class=\"node\">\n<title>4</title>\n<path fill=\"#e78a47\" stroke=\"#000000\" d=\"M137,-53C137,-53 12,-53 12,-53 6,-53 0,-47 0,-41 0,-41 0,-12 0,-12 0,-6 6,0 12,0 12,0 137,0 137,0 143,0 149,-6 149,-12 149,-12 149,-41 149,-41 149,-47 143,-53 137,-53\"/>\n<text text-anchor=\"start\" x=\"36.5\" y=\"-37.8\" font-family=\"Helvetica,sans-Serif\" font-size=\"14.00\" fill=\"#000000\">gini = 0.124</text>\n<text text-anchor=\"start\" x=\"18.5\" y=\"-22.8\" font-family=\"Helvetica,sans-Serif\" font-size=\"14.00\" fill=\"#000000\">samples = 14418</text>\n<text text-anchor=\"start\" x=\"8\" y=\"-7.8\" font-family=\"Helvetica,sans-Serif\" font-size=\"14.00\" fill=\"#000000\">value = [13463, 955]</text>\n</g>\n<!-- 3&#45;&gt;4 -->\n<g id=\"edge4\" class=\"edge\">\n<title>3&#45;&gt;4</title>\n<path fill=\"none\" stroke=\"#000000\" d=\"M171.6156,-88.9777C156.3856,-79.1798 139.8194,-68.5222 124.7536,-58.8298\"/>\n<polygon fill=\"#000000\" stroke=\"#000000\" points=\"126.3816,-55.7154 116.0779,-53.2485 122.5943,-61.6024 126.3816,-55.7154\"/>\n</g>\n<!-- 5 -->\n<g id=\"node6\" class=\"node\">\n<title>5</title>\n<path fill=\"#a5d2f3\" stroke=\"#000000\" d=\"M270.5,-53C270.5,-53 178.5,-53 178.5,-53 172.5,-53 166.5,-47 166.5,-41 166.5,-41 166.5,-12 166.5,-12 166.5,-6 172.5,0 178.5,0 178.5,0 270.5,0 270.5,0 276.5,0 282.5,-6 282.5,-12 282.5,-12 282.5,-41 282.5,-41 282.5,-47 276.5,-53 270.5,-53\"/>\n<text text-anchor=\"start\" x=\"186.5\" y=\"-37.8\" font-family=\"Helvetica,sans-Serif\" font-size=\"14.00\" fill=\"#000000\">gini = 0.457</text>\n<text text-anchor=\"start\" x=\"180.5\" y=\"-22.8\" font-family=\"Helvetica,sans-Serif\" font-size=\"14.00\" fill=\"#000000\">samples = 51</text>\n<text text-anchor=\"start\" x=\"174.5\" y=\"-7.8\" font-family=\"Helvetica,sans-Serif\" font-size=\"14.00\" fill=\"#000000\">value = [18, 33]</text>\n</g>\n<!-- 3&#45;&gt;5 -->\n<g id=\"edge5\" class=\"edge\">\n<title>3&#45;&gt;5</title>\n<path fill=\"none\" stroke=\"#000000\" d=\"M224.5,-88.9777C224.5,-80.7364 224.5,-71.887 224.5,-63.5153\"/>\n<polygon fill=\"#000000\" stroke=\"#000000\" points=\"228.0001,-63.2484 224.5,-53.2485 221.0001,-63.2485 228.0001,-63.2484\"/>\n</g>\n<!-- 7 -->\n<g id=\"node8\" class=\"node\">\n<title>7</title>\n<path fill=\"#dfeffb\" stroke=\"#000000\" d=\"M404.5,-53C404.5,-53 312.5,-53 312.5,-53 306.5,-53 300.5,-47 300.5,-41 300.5,-41 300.5,-12 300.5,-12 300.5,-6 306.5,0 312.5,0 312.5,0 404.5,0 404.5,0 410.5,0 416.5,-6 416.5,-12 416.5,-12 416.5,-41 416.5,-41 416.5,-47 410.5,-53 404.5,-53\"/>\n<text text-anchor=\"start\" x=\"320.5\" y=\"-37.8\" font-family=\"Helvetica,sans-Serif\" font-size=\"14.00\" fill=\"#000000\">gini = 0.496</text>\n<text text-anchor=\"start\" x=\"310.5\" y=\"-22.8\" font-family=\"Helvetica,sans-Serif\" font-size=\"14.00\" fill=\"#000000\">samples = 112</text>\n<text text-anchor=\"start\" x=\"308.5\" y=\"-7.8\" font-family=\"Helvetica,sans-Serif\" font-size=\"14.00\" fill=\"#000000\">value = [51, 61]</text>\n</g>\n<!-- 6&#45;&gt;7 -->\n<g id=\"edge7\" class=\"edge\">\n<title>6&#45;&gt;7</title>\n<path fill=\"none\" stroke=\"#000000\" d=\"M415.4745,-88.9777C407.1241,-79.8207 398.089,-69.9129 389.7276,-60.744\"/>\n<polygon fill=\"#000000\" stroke=\"#000000\" points=\"392.2167,-58.2791 382.8924,-53.2485 387.0444,-62.9959 392.2167,-58.2791\"/>\n</g>\n<!-- 8 -->\n<g id=\"node9\" class=\"node\">\n<title>8</title>\n<path fill=\"#eead7e\" stroke=\"#000000\" d=\"M530,-53C530,-53 447,-53 447,-53 441,-53 435,-47 435,-41 435,-41 435,-12 435,-12 435,-6 441,0 447,0 447,0 530,0 530,0 536,0 542,-6 542,-12 542,-12 542,-41 542,-41 542,-47 536,-53 530,-53\"/>\n<text text-anchor=\"start\" x=\"450.5\" y=\"-37.8\" font-family=\"Helvetica,sans-Serif\" font-size=\"14.00\" fill=\"#000000\">gini = 0.383</text>\n<text text-anchor=\"start\" x=\"444.5\" y=\"-22.8\" font-family=\"Helvetica,sans-Serif\" font-size=\"14.00\" fill=\"#000000\">samples = 31</text>\n<text text-anchor=\"start\" x=\"443\" y=\"-7.8\" font-family=\"Helvetica,sans-Serif\" font-size=\"14.00\" fill=\"#000000\">value = [23, 8]</text>\n</g>\n<!-- 6&#45;&gt;8 -->\n<g id=\"edge8\" class=\"edge\">\n<title>6&#45;&gt;8</title>\n<path fill=\"none\" stroke=\"#000000\" d=\"M461.3076,-88.9777C465.0141,-80.4617 469.0031,-71.2963 472.7534,-62.6798\"/>\n<polygon fill=\"#000000\" stroke=\"#000000\" points=\"476.0766,-63.8145 476.8582,-53.2485 469.6582,-61.0209 476.0766,-63.8145\"/>\n</g>\n<!-- 10 -->\n<g id=\"node11\" class=\"node\">\n<title>10</title>\n<path fill=\"#f5cdb1\" stroke=\"#000000\" d=\"M813.5,-157C813.5,-157 637.5,-157 637.5,-157 631.5,-157 625.5,-151 625.5,-145 625.5,-145 625.5,-101 625.5,-101 625.5,-95 631.5,-89 637.5,-89 637.5,-89 813.5,-89 813.5,-89 819.5,-89 825.5,-95 825.5,-101 825.5,-101 825.5,-145 825.5,-145 825.5,-151 819.5,-157 813.5,-157\"/>\n<text text-anchor=\"start\" x=\"633.5\" y=\"-141.8\" font-family=\"Helvetica,sans-Serif\" font-size=\"14.00\" fill=\"#000000\">poutcome_nonexistent ≤ 0.5</text>\n<text text-anchor=\"start\" x=\"692\" y=\"-126.8\" font-family=\"Helvetica,sans-Serif\" font-size=\"14.00\" fill=\"#000000\">gini = 0.47</text>\n<text text-anchor=\"start\" x=\"677.5\" y=\"-111.8\" font-family=\"Helvetica,sans-Serif\" font-size=\"14.00\" fill=\"#000000\">samples = 429</text>\n<text text-anchor=\"start\" x=\"667.5\" y=\"-96.8\" font-family=\"Helvetica,sans-Serif\" font-size=\"14.00\" fill=\"#000000\">value = [267, 162]</text>\n</g>\n<!-- 9&#45;&gt;10 -->\n<g id=\"edge10\" class=\"edge\">\n<title>9&#45;&gt;10</title>\n<path fill=\"none\" stroke=\"#000000\" d=\"M794.7739,-192.9465C785.7039,-183.7884 775.7955,-173.7838 766.3819,-164.2788\"/>\n<polygon fill=\"#000000\" stroke=\"#000000\" points=\"768.8255,-161.7723 759.3018,-157.13 763.8519,-166.6981 768.8255,-161.7723\"/>\n</g>\n<!-- 13 -->\n<g id=\"node14\" class=\"node\">\n<title>13</title>\n<path fill=\"#d0e8f9\" stroke=\"#000000\" d=\"M1007.5,-157C1007.5,-157 855.5,-157 855.5,-157 849.5,-157 843.5,-151 843.5,-145 843.5,-145 843.5,-101 843.5,-101 843.5,-95 849.5,-89 855.5,-89 855.5,-89 1007.5,-89 1007.5,-89 1013.5,-89 1019.5,-95 1019.5,-101 1019.5,-101 1019.5,-145 1019.5,-145 1019.5,-151 1013.5,-157 1007.5,-157\"/>\n<text text-anchor=\"start\" x=\"851.5\" y=\"-141.8\" font-family=\"Helvetica,sans-Serif\" font-size=\"14.00\" fill=\"#000000\">day_of_week_mon ≤ 0.5</text>\n<text text-anchor=\"start\" x=\"893.5\" y=\"-126.8\" font-family=\"Helvetica,sans-Serif\" font-size=\"14.00\" fill=\"#000000\">gini = 0.491</text>\n<text text-anchor=\"start\" x=\"883.5\" y=\"-111.8\" font-family=\"Helvetica,sans-Serif\" font-size=\"14.00\" fill=\"#000000\">samples = 187</text>\n<text text-anchor=\"start\" x=\"877.5\" y=\"-96.8\" font-family=\"Helvetica,sans-Serif\" font-size=\"14.00\" fill=\"#000000\">value = [81, 106]</text>\n</g>\n<!-- 9&#45;&gt;13 -->\n<g id=\"edge13\" class=\"edge\">\n<title>9&#45;&gt;13</title>\n<path fill=\"none\" stroke=\"#000000\" d=\"M862.2261,-192.9465C871.2961,-183.7884 881.2045,-173.7838 890.6181,-164.2788\"/>\n<polygon fill=\"#000000\" stroke=\"#000000\" points=\"893.1481,-166.6981 897.6982,-157.13 888.1745,-161.7723 893.1481,-166.6981\"/>\n</g>\n<!-- 11 -->\n<g id=\"node12\" class=\"node\">\n<title>11</title>\n<path fill=\"#f0f8fd\" stroke=\"#000000\" d=\"M664.5,-53C664.5,-53 572.5,-53 572.5,-53 566.5,-53 560.5,-47 560.5,-41 560.5,-41 560.5,-12 560.5,-12 560.5,-6 566.5,0 572.5,0 572.5,0 664.5,0 664.5,0 670.5,0 676.5,-6 676.5,-12 676.5,-12 676.5,-41 676.5,-41 676.5,-47 670.5,-53 664.5,-53\"/>\n<text text-anchor=\"start\" x=\"580.5\" y=\"-37.8\" font-family=\"Helvetica,sans-Serif\" font-size=\"14.00\" fill=\"#000000\">gini = 0.499</text>\n<text text-anchor=\"start\" x=\"570.5\" y=\"-22.8\" font-family=\"Helvetica,sans-Serif\" font-size=\"14.00\" fill=\"#000000\">samples = 127</text>\n<text text-anchor=\"start\" x=\"568.5\" y=\"-7.8\" font-family=\"Helvetica,sans-Serif\" font-size=\"14.00\" fill=\"#000000\">value = [61, 66]</text>\n</g>\n<!-- 10&#45;&gt;11 -->\n<g id=\"edge11\" class=\"edge\">\n<title>10&#45;&gt;11</title>\n<path fill=\"none\" stroke=\"#000000\" d=\"M687.7758,-88.9777C677.4194,-79.6376 666.1969,-69.5163 655.861,-60.1947\"/>\n<polygon fill=\"#000000\" stroke=\"#000000\" points=\"657.9291,-57.3467 648.1589,-53.2485 653.2409,-62.5449 657.9291,-57.3467\"/>\n</g>\n<!-- 12 -->\n<g id=\"node13\" class=\"node\">\n<title>12</title>\n<path fill=\"#f1bc95\" stroke=\"#000000\" d=\"M806.5,-53C806.5,-53 706.5,-53 706.5,-53 700.5,-53 694.5,-47 694.5,-41 694.5,-41 694.5,-12 694.5,-12 694.5,-6 700.5,0 706.5,0 706.5,0 806.5,0 806.5,0 812.5,0 818.5,-6 818.5,-12 818.5,-12 818.5,-41 818.5,-41 818.5,-47 812.5,-53 806.5,-53\"/>\n<text text-anchor=\"start\" x=\"718.5\" y=\"-37.8\" font-family=\"Helvetica,sans-Serif\" font-size=\"14.00\" fill=\"#000000\">gini = 0.434</text>\n<text text-anchor=\"start\" x=\"708.5\" y=\"-22.8\" font-family=\"Helvetica,sans-Serif\" font-size=\"14.00\" fill=\"#000000\">samples = 302</text>\n<text text-anchor=\"start\" x=\"702.5\" y=\"-7.8\" font-family=\"Helvetica,sans-Serif\" font-size=\"14.00\" fill=\"#000000\">value = [206, 96]</text>\n</g>\n<!-- 10&#45;&gt;12 -->\n<g id=\"edge12\" class=\"edge\">\n<title>10&#45;&gt;12</title>\n<path fill=\"none\" stroke=\"#000000\" d=\"M736.4294,-88.9777C739.1357,-80.5533 742.0462,-71.4934 744.7881,-62.9579\"/>\n<polygon fill=\"#000000\" stroke=\"#000000\" points=\"748.1809,-63.8398 747.9072,-53.2485 741.5164,-61.6988 748.1809,-63.8398\"/>\n</g>\n<!-- 14 -->\n<g id=\"node15\" class=\"node\">\n<title>14</title>\n<path fill=\"#b8dcf6\" stroke=\"#000000\" d=\"M940.5,-53C940.5,-53 848.5,-53 848.5,-53 842.5,-53 836.5,-47 836.5,-41 836.5,-41 836.5,-12 836.5,-12 836.5,-6 842.5,0 848.5,0 848.5,0 940.5,0 940.5,0 946.5,0 952.5,-6 952.5,-12 952.5,-12 952.5,-41 952.5,-41 952.5,-47 946.5,-53 940.5,-53\"/>\n<text text-anchor=\"start\" x=\"856.5\" y=\"-37.8\" font-family=\"Helvetica,sans-Serif\" font-size=\"14.00\" fill=\"#000000\">gini = 0.477</text>\n<text text-anchor=\"start\" x=\"846.5\" y=\"-22.8\" font-family=\"Helvetica,sans-Serif\" font-size=\"14.00\" fill=\"#000000\">samples = 143</text>\n<text text-anchor=\"start\" x=\"844.5\" y=\"-7.8\" font-family=\"Helvetica,sans-Serif\" font-size=\"14.00\" fill=\"#000000\">value = [56, 87]</text>\n</g>\n<!-- 13&#45;&gt;14 -->\n<g id=\"edge14\" class=\"edge\">\n<title>13&#45;&gt;14</title>\n<path fill=\"none\" stroke=\"#000000\" d=\"M918.4552,-88.9777C915.19,-80.4617 911.6758,-71.2963 908.372,-62.6798\"/>\n<polygon fill=\"#000000\" stroke=\"#000000\" points=\"911.604,-61.3326 904.7559,-53.2485 905.068,-63.8387 911.604,-61.3326\"/>\n</g>\n<!-- 15 -->\n<g id=\"node16\" class=\"node\">\n<title>15</title>\n<path fill=\"#f9e1cf\" stroke=\"#000000\" d=\"M1074.5,-53C1074.5,-53 982.5,-53 982.5,-53 976.5,-53 970.5,-47 970.5,-41 970.5,-41 970.5,-12 970.5,-12 970.5,-6 976.5,0 982.5,0 982.5,0 1074.5,0 1074.5,0 1080.5,0 1086.5,-6 1086.5,-12 1086.5,-12 1086.5,-41 1086.5,-41 1086.5,-47 1080.5,-53 1074.5,-53\"/>\n<text text-anchor=\"start\" x=\"990.5\" y=\"-37.8\" font-family=\"Helvetica,sans-Serif\" font-size=\"14.00\" fill=\"#000000\">gini = 0.491</text>\n<text text-anchor=\"start\" x=\"984.5\" y=\"-22.8\" font-family=\"Helvetica,sans-Serif\" font-size=\"14.00\" fill=\"#000000\">samples = 44</text>\n<text text-anchor=\"start\" x=\"978.5\" y=\"-7.8\" font-family=\"Helvetica,sans-Serif\" font-size=\"14.00\" fill=\"#000000\">value = [25, 19]</text>\n</g>\n<!-- 13&#45;&gt;15 -->\n<g id=\"edge15\" class=\"edge\">\n<title>13&#45;&gt;15</title>\n<path fill=\"none\" stroke=\"#000000\" d=\"M965.6986,-88.9777C974.995,-79.7292 985.0614,-69.7147 994.3549,-60.4691\"/>\n<polygon fill=\"#000000\" stroke=\"#000000\" points=\"996.9921,-62.7825 1001.6129,-53.2485 992.0551,-57.82 996.9921,-62.7825\"/>\n</g>\n<!-- 17 -->\n<g id=\"node18\" class=\"node\">\n<title>17</title>\n<path fill=\"#84c2ef\" stroke=\"#000000\" d=\"M1435,-261C1435,-261 1286,-261 1286,-261 1280,-261 1274,-255 1274,-249 1274,-249 1274,-205 1274,-205 1274,-199 1280,-193 1286,-193 1286,-193 1435,-193 1435,-193 1441,-193 1447,-199 1447,-205 1447,-205 1447,-249 1447,-249 1447,-255 1441,-261 1435,-261\"/>\n<text text-anchor=\"start\" x=\"1282\" y=\"-245.8\" font-family=\"Helvetica,sans-Serif\" font-size=\"14.00\" fill=\"#000000\">nr.employed ≤ 5031.846</text>\n<text text-anchor=\"start\" x=\"1322.5\" y=\"-230.8\" font-family=\"Helvetica,sans-Serif\" font-size=\"14.00\" fill=\"#000000\">gini = 0.398</text>\n<text text-anchor=\"start\" x=\"1312.5\" y=\"-215.8\" font-family=\"Helvetica,sans-Serif\" font-size=\"14.00\" fill=\"#000000\">samples = 336</text>\n<text text-anchor=\"start\" x=\"1306.5\" y=\"-200.8\" font-family=\"Helvetica,sans-Serif\" font-size=\"14.00\" fill=\"#000000\">value = [92, 244]</text>\n</g>\n<!-- 16&#45;&gt;17 -->\n<g id=\"edge17\" class=\"edge\">\n<title>16&#45;&gt;17</title>\n<path fill=\"none\" stroke=\"#000000\" d=\"M1360.5,-296.9465C1360.5,-288.776 1360.5,-279.9318 1360.5,-271.3697\"/>\n<polygon fill=\"#000000\" stroke=\"#000000\" points=\"1364.0001,-271.13 1360.5,-261.13 1357.0001,-271.13 1364.0001,-271.13\"/>\n</g>\n<!-- 24 -->\n<g id=\"node25\" class=\"node\">\n<title>24</title>\n<path fill=\"#f7d6bf\" stroke=\"#000000\" d=\"M1785.5,-261C1785.5,-261 1663.5,-261 1663.5,-261 1657.5,-261 1651.5,-255 1651.5,-249 1651.5,-249 1651.5,-205 1651.5,-205 1651.5,-199 1657.5,-193 1663.5,-193 1663.5,-193 1785.5,-193 1785.5,-193 1791.5,-193 1797.5,-199 1797.5,-205 1797.5,-205 1797.5,-249 1797.5,-249 1797.5,-255 1791.5,-261 1785.5,-261\"/>\n<text text-anchor=\"start\" x=\"1659.5\" y=\"-245.8\" font-family=\"Helvetica,sans-Serif\" font-size=\"14.00\" fill=\"#000000\">RecordID ≤ 28002.5</text>\n<text text-anchor=\"start\" x=\"1686.5\" y=\"-230.8\" font-family=\"Helvetica,sans-Serif\" font-size=\"14.00\" fill=\"#000000\">gini = 0.481</text>\n<text text-anchor=\"start\" x=\"1672.5\" y=\"-215.8\" font-family=\"Helvetica,sans-Serif\" font-size=\"14.00\" fill=\"#000000\">samples = 1736</text>\n<text text-anchor=\"start\" x=\"1662.5\" y=\"-200.8\" font-family=\"Helvetica,sans-Serif\" font-size=\"14.00\" fill=\"#000000\">value = [1036, 700]</text>\n</g>\n<!-- 16&#45;&gt;24 -->\n<g id=\"edge24\" class=\"edge\">\n<title>16&#45;&gt;24</title>\n<path fill=\"none\" stroke=\"#000000\" d=\"M1430.6829,-310.9478C1491.0092,-293.7117 1578.0958,-268.8298 1641.7954,-250.6299\"/>\n<polygon fill=\"#000000\" stroke=\"#000000\" points=\"1642.76,-253.9944 1651.4137,-247.8818 1640.8369,-247.2638 1642.76,-253.9944\"/>\n</g>\n<!-- 18 -->\n<g id=\"node19\" class=\"node\">\n<title>18</title>\n<path fill=\"#72b9ec\" stroke=\"#000000\" d=\"M1344.5,-157C1344.5,-157 1234.5,-157 1234.5,-157 1228.5,-157 1222.5,-151 1222.5,-145 1222.5,-145 1222.5,-101 1222.5,-101 1222.5,-95 1228.5,-89 1234.5,-89 1234.5,-89 1344.5,-89 1344.5,-89 1350.5,-89 1356.5,-95 1356.5,-101 1356.5,-101 1356.5,-145 1356.5,-145 1356.5,-151 1350.5,-157 1344.5,-157\"/>\n<text text-anchor=\"start\" x=\"1230.5\" y=\"-141.8\" font-family=\"Helvetica,sans-Serif\" font-size=\"14.00\" fill=\"#000000\">euribor3m ≤ 0.699</text>\n<text text-anchor=\"start\" x=\"1251.5\" y=\"-126.8\" font-family=\"Helvetica,sans-Serif\" font-size=\"14.00\" fill=\"#000000\">gini = 0.347</text>\n<text text-anchor=\"start\" x=\"1241.5\" y=\"-111.8\" font-family=\"Helvetica,sans-Serif\" font-size=\"14.00\" fill=\"#000000\">samples = 260</text>\n<text text-anchor=\"start\" x=\"1235.5\" y=\"-96.8\" font-family=\"Helvetica,sans-Serif\" font-size=\"14.00\" fill=\"#000000\">value = [58, 202]</text>\n</g>\n<!-- 17&#45;&gt;18 -->\n<g id=\"edge18\" class=\"edge\">\n<title>17&#45;&gt;18</title>\n<path fill=\"none\" stroke=\"#000000\" d=\"M1337.2519,-192.9465C1331.245,-184.1475 1324.7045,-174.5672 1318.4457,-165.3993\"/>\n<polygon fill=\"#000000\" stroke=\"#000000\" points=\"1321.3293,-163.4155 1312.8003,-157.13 1315.548,-167.3623 1321.3293,-163.4155\"/>\n</g>\n<!-- 21 -->\n<g id=\"node22\" class=\"node\">\n<title>21</title>\n<path fill=\"#d9ecfa\" stroke=\"#000000\" d=\"M1478.5,-157C1478.5,-157 1386.5,-157 1386.5,-157 1380.5,-157 1374.5,-151 1374.5,-145 1374.5,-145 1374.5,-101 1374.5,-101 1374.5,-95 1380.5,-89 1386.5,-89 1386.5,-89 1478.5,-89 1478.5,-89 1484.5,-89 1490.5,-95 1490.5,-101 1490.5,-101 1490.5,-145 1490.5,-145 1490.5,-151 1484.5,-157 1478.5,-157\"/>\n<text text-anchor=\"start\" x=\"1390.5\" y=\"-141.8\" font-family=\"Helvetica,sans-Serif\" font-size=\"14.00\" fill=\"#000000\">pdays ≤ 12.5</text>\n<text text-anchor=\"start\" x=\"1394.5\" y=\"-126.8\" font-family=\"Helvetica,sans-Serif\" font-size=\"14.00\" fill=\"#000000\">gini = 0.494</text>\n<text text-anchor=\"start\" x=\"1388.5\" y=\"-111.8\" font-family=\"Helvetica,sans-Serif\" font-size=\"14.00\" fill=\"#000000\">samples = 76</text>\n<text text-anchor=\"start\" x=\"1382.5\" y=\"-96.8\" font-family=\"Helvetica,sans-Serif\" font-size=\"14.00\" fill=\"#000000\">value = [34, 42]</text>\n</g>\n<!-- 17&#45;&gt;21 -->\n<g id=\"edge21\" class=\"edge\">\n<title>17&#45;&gt;21</title>\n<path fill=\"none\" stroke=\"#000000\" d=\"M1384.0755,-192.9465C1390.1671,-184.1475 1396.7996,-174.5672 1403.1466,-165.3993\"/>\n<polygon fill=\"#000000\" stroke=\"#000000\" points=\"1406.0571,-167.3442 1408.8715,-157.13 1400.3017,-163.3597 1406.0571,-167.3442\"/>\n</g>\n<!-- 19 -->\n<g id=\"node20\" class=\"node\">\n<title>19</title>\n<path fill=\"#53aae8\" stroke=\"#000000\" d=\"M1200,-53C1200,-53 1117,-53 1117,-53 1111,-53 1105,-47 1105,-41 1105,-41 1105,-12 1105,-12 1105,-6 1111,0 1117,0 1117,0 1200,0 1200,0 1206,0 1212,-6 1212,-12 1212,-12 1212,-41 1212,-41 1212,-47 1206,-53 1200,-53\"/>\n<text text-anchor=\"start\" x=\"1120.5\" y=\"-37.8\" font-family=\"Helvetica,sans-Serif\" font-size=\"14.00\" fill=\"#000000\">gini = 0.204</text>\n<text text-anchor=\"start\" x=\"1114.5\" y=\"-22.8\" font-family=\"Helvetica,sans-Serif\" font-size=\"14.00\" fill=\"#000000\">samples = 52</text>\n<text text-anchor=\"start\" x=\"1113\" y=\"-7.8\" font-family=\"Helvetica,sans-Serif\" font-size=\"14.00\" fill=\"#000000\">value = [6, 46]</text>\n</g>\n<!-- 18&#45;&gt;19 -->\n<g id=\"edge19\" class=\"edge\">\n<title>18&#45;&gt;19</title>\n<path fill=\"none\" stroke=\"#000000\" d=\"M1243.3143,-88.9777C1230.2621,-79.3629 1216.0861,-68.9203 1203.1273,-59.3743\"/>\n<polygon fill=\"#000000\" stroke=\"#000000\" points=\"1204.9386,-56.3615 1194.8114,-53.2485 1200.7869,-61.9974 1204.9386,-56.3615\"/>\n</g>\n<!-- 20 -->\n<g id=\"node21\" class=\"node\">\n<title>20</title>\n<path fill=\"#7bbeee\" stroke=\"#000000\" d=\"M1342.5,-53C1342.5,-53 1242.5,-53 1242.5,-53 1236.5,-53 1230.5,-47 1230.5,-41 1230.5,-41 1230.5,-12 1230.5,-12 1230.5,-6 1236.5,0 1242.5,0 1242.5,0 1342.5,0 1342.5,0 1348.5,0 1354.5,-6 1354.5,-12 1354.5,-12 1354.5,-41 1354.5,-41 1354.5,-47 1348.5,-53 1342.5,-53\"/>\n<text text-anchor=\"start\" x=\"1254.5\" y=\"-37.8\" font-family=\"Helvetica,sans-Serif\" font-size=\"14.00\" fill=\"#000000\">gini = 0.375</text>\n<text text-anchor=\"start\" x=\"1244.5\" y=\"-22.8\" font-family=\"Helvetica,sans-Serif\" font-size=\"14.00\" fill=\"#000000\">samples = 208</text>\n<text text-anchor=\"start\" x=\"1238.5\" y=\"-7.8\" font-family=\"Helvetica,sans-Serif\" font-size=\"14.00\" fill=\"#000000\">value = [52, 156]</text>\n</g>\n<!-- 18&#45;&gt;20 -->\n<g id=\"edge20\" class=\"edge\">\n<title>18&#45;&gt;20</title>\n<path fill=\"none\" stroke=\"#000000\" d=\"M1290.5577,-88.9777C1290.8139,-80.7364 1291.089,-71.887 1291.3493,-63.5153\"/>\n<polygon fill=\"#000000\" stroke=\"#000000\" points=\"1294.8559,-63.3524 1291.6684,-53.2485 1287.8593,-63.1349 1294.8559,-63.3524\"/>\n</g>\n<!-- 22 -->\n<g id=\"node23\" class=\"node\">\n<title>22</title>\n<path fill=\"#ffffff\" stroke=\"#000000\" d=\"M1476.5,-53C1476.5,-53 1384.5,-53 1384.5,-53 1378.5,-53 1372.5,-47 1372.5,-41 1372.5,-41 1372.5,-12 1372.5,-12 1372.5,-6 1378.5,0 1384.5,0 1384.5,0 1476.5,0 1476.5,0 1482.5,0 1488.5,-6 1488.5,-12 1488.5,-12 1488.5,-41 1488.5,-41 1488.5,-47 1482.5,-53 1476.5,-53\"/>\n<text text-anchor=\"start\" x=\"1401\" y=\"-37.8\" font-family=\"Helvetica,sans-Serif\" font-size=\"14.00\" fill=\"#000000\">gini = 0.5</text>\n<text text-anchor=\"start\" x=\"1386.5\" y=\"-22.8\" font-family=\"Helvetica,sans-Serif\" font-size=\"14.00\" fill=\"#000000\">samples = 66</text>\n<text text-anchor=\"start\" x=\"1380.5\" y=\"-7.8\" font-family=\"Helvetica,sans-Serif\" font-size=\"14.00\" fill=\"#000000\">value = [33, 33]</text>\n</g>\n<!-- 21&#45;&gt;22 -->\n<g id=\"edge22\" class=\"edge\">\n<title>21&#45;&gt;22</title>\n<path fill=\"none\" stroke=\"#000000\" d=\"M1431.7949,-88.9777C1431.6241,-80.7364 1431.4407,-71.887 1431.2672,-63.5153\"/>\n<polygon fill=\"#000000\" stroke=\"#000000\" points=\"1434.7609,-63.1738 1431.0544,-53.2485 1427.7624,-63.3189 1434.7609,-63.1738\"/>\n</g>\n<!-- 23 -->\n<g id=\"node24\" class=\"node\">\n<title>23</title>\n<path fill=\"#4fa8e8\" stroke=\"#000000\" d=\"M1598.5,-53C1598.5,-53 1518.5,-53 1518.5,-53 1512.5,-53 1506.5,-47 1506.5,-41 1506.5,-41 1506.5,-12 1506.5,-12 1506.5,-6 1512.5,0 1518.5,0 1518.5,0 1598.5,0 1598.5,0 1604.5,0 1610.5,-6 1610.5,-12 1610.5,-12 1610.5,-41 1610.5,-41 1610.5,-47 1604.5,-53 1598.5,-53\"/>\n<text text-anchor=\"start\" x=\"1525\" y=\"-37.8\" font-family=\"Helvetica,sans-Serif\" font-size=\"14.00\" fill=\"#000000\">gini = 0.18</text>\n<text text-anchor=\"start\" x=\"1514.5\" y=\"-22.8\" font-family=\"Helvetica,sans-Serif\" font-size=\"14.00\" fill=\"#000000\">samples = 10</text>\n<text text-anchor=\"start\" x=\"1517\" y=\"-7.8\" font-family=\"Helvetica,sans-Serif\" font-size=\"14.00\" fill=\"#000000\">value = [1, 9]</text>\n</g>\n<!-- 21&#45;&gt;23 -->\n<g id=\"edge23\" class=\"edge\">\n<title>21&#45;&gt;23</title>\n<path fill=\"none\" stroke=\"#000000\" d=\"M1476.9229,-88.9777C1489.477,-79.3629 1503.1119,-68.9203 1515.576,-59.3743\"/>\n<polygon fill=\"#000000\" stroke=\"#000000\" points=\"1517.7635,-62.1076 1523.5745,-53.2485 1513.5073,-56.5502 1517.7635,-62.1076\"/>\n</g>\n<!-- 25 -->\n<g id=\"node26\" class=\"node\">\n<title>25</title>\n<path fill=\"#f2bf9a\" stroke=\"#000000\" d=\"M1799,-157C1799,-157 1650,-157 1650,-157 1644,-157 1638,-151 1638,-145 1638,-145 1638,-101 1638,-101 1638,-95 1644,-89 1650,-89 1650,-89 1799,-89 1799,-89 1805,-89 1811,-95 1811,-101 1811,-101 1811,-145 1811,-145 1811,-151 1805,-157 1799,-157\"/>\n<text text-anchor=\"start\" x=\"1646\" y=\"-141.8\" font-family=\"Helvetica,sans-Serif\" font-size=\"14.00\" fill=\"#000000\">nr.employed ≤ 4965.777</text>\n<text text-anchor=\"start\" x=\"1686.5\" y=\"-126.8\" font-family=\"Helvetica,sans-Serif\" font-size=\"14.00\" fill=\"#000000\">gini = 0.441</text>\n<text text-anchor=\"start\" x=\"1676.5\" y=\"-111.8\" font-family=\"Helvetica,sans-Serif\" font-size=\"14.00\" fill=\"#000000\">samples = 797</text>\n<text text-anchor=\"start\" x=\"1666.5\" y=\"-96.8\" font-family=\"Helvetica,sans-Serif\" font-size=\"14.00\" fill=\"#000000\">value = [535, 262]</text>\n</g>\n<!-- 24&#45;&gt;25 -->\n<g id=\"edge25\" class=\"edge\">\n<title>24&#45;&gt;25</title>\n<path fill=\"none\" stroke=\"#000000\" d=\"M1724.5,-192.9465C1724.5,-184.776 1724.5,-175.9318 1724.5,-167.3697\"/>\n<polygon fill=\"#000000\" stroke=\"#000000\" points=\"1728.0001,-167.13 1724.5,-157.13 1721.0001,-167.13 1728.0001,-167.13\"/>\n</g>\n<!-- 28 -->\n<g id=\"node29\" class=\"node\">\n<title>28</title>\n<path fill=\"#fcefe6\" stroke=\"#000000\" d=\"M2036.5,-157C2036.5,-157 1888.5,-157 1888.5,-157 1882.5,-157 1876.5,-151 1876.5,-145 1876.5,-145 1876.5,-101 1876.5,-101 1876.5,-95 1882.5,-89 1888.5,-89 1888.5,-89 2036.5,-89 2036.5,-89 2042.5,-89 2048.5,-95 2048.5,-101 2048.5,-101 2048.5,-145 2048.5,-145 2048.5,-151 2042.5,-157 2036.5,-157\"/>\n<text text-anchor=\"start\" x=\"1884.5\" y=\"-141.8\" font-family=\"Helvetica,sans-Serif\" font-size=\"14.00\" fill=\"#000000\">contact_telephone ≤ 0.5</text>\n<text text-anchor=\"start\" x=\"1924.5\" y=\"-126.8\" font-family=\"Helvetica,sans-Serif\" font-size=\"14.00\" fill=\"#000000\">gini = 0.498</text>\n<text text-anchor=\"start\" x=\"1914.5\" y=\"-111.8\" font-family=\"Helvetica,sans-Serif\" font-size=\"14.00\" fill=\"#000000\">samples = 939</text>\n<text text-anchor=\"start\" x=\"1904.5\" y=\"-96.8\" font-family=\"Helvetica,sans-Serif\" font-size=\"14.00\" fill=\"#000000\">value = [501, 438]</text>\n</g>\n<!-- 24&#45;&gt;28 -->\n<g id=\"edge28\" class=\"edge\">\n<title>24&#45;&gt;28</title>\n<path fill=\"none\" stroke=\"#000000\" d=\"M1797.5253,-195.0898C1822.1082,-184.3477 1849.7843,-172.2539 1875.3445,-161.0847\"/>\n<polygon fill=\"#000000\" stroke=\"#000000\" points=\"1876.8942,-164.2272 1884.6561,-157.0158 1874.0913,-157.8128 1876.8942,-164.2272\"/>\n</g>\n<!-- 26 -->\n<g id=\"node27\" class=\"node\">\n<title>26</title>\n<path fill=\"#399de5\" stroke=\"#000000\" d=\"M1716,-53C1716,-53 1641,-53 1641,-53 1635,-53 1629,-47 1629,-41 1629,-41 1629,-12 1629,-12 1629,-6 1635,0 1641,0 1641,0 1716,0 1716,0 1722,0 1728,-6 1728,-12 1728,-12 1728,-41 1728,-41 1728,-47 1722,-53 1716,-53\"/>\n<text text-anchor=\"start\" x=\"1649\" y=\"-37.8\" font-family=\"Helvetica,sans-Serif\" font-size=\"14.00\" fill=\"#000000\">gini = 0.0</text>\n<text text-anchor=\"start\" x=\"1639\" y=\"-22.8\" font-family=\"Helvetica,sans-Serif\" font-size=\"14.00\" fill=\"#000000\">samples = 4</text>\n<text text-anchor=\"start\" x=\"1637\" y=\"-7.8\" font-family=\"Helvetica,sans-Serif\" font-size=\"14.00\" fill=\"#000000\">value = [0, 4]</text>\n</g>\n<!-- 25&#45;&gt;26 -->\n<g id=\"edge26\" class=\"edge\">\n<title>25&#45;&gt;26</title>\n<path fill=\"none\" stroke=\"#000000\" d=\"M1708.2821,-88.9777C1704.179,-80.3702 1699.7597,-71.0992 1695.6139,-62.402\"/>\n<polygon fill=\"#000000\" stroke=\"#000000\" points=\"1698.713,-60.7693 1691.2506,-53.2485 1692.3942,-63.7814 1698.713,-60.7693\"/>\n</g>\n<!-- 27 -->\n<g id=\"node28\" class=\"node\">\n<title>27</title>\n<path fill=\"#f2be98\" stroke=\"#000000\" d=\"M1866.5,-53C1866.5,-53 1758.5,-53 1758.5,-53 1752.5,-53 1746.5,-47 1746.5,-41 1746.5,-41 1746.5,-12 1746.5,-12 1746.5,-6 1752.5,0 1758.5,0 1758.5,0 1866.5,0 1866.5,0 1872.5,0 1878.5,-6 1878.5,-12 1878.5,-12 1878.5,-41 1878.5,-41 1878.5,-47 1872.5,-53 1866.5,-53\"/>\n<text text-anchor=\"start\" x=\"1774.5\" y=\"-37.8\" font-family=\"Helvetica,sans-Serif\" font-size=\"14.00\" fill=\"#000000\">gini = 0.439</text>\n<text text-anchor=\"start\" x=\"1764.5\" y=\"-22.8\" font-family=\"Helvetica,sans-Serif\" font-size=\"14.00\" fill=\"#000000\">samples = 793</text>\n<text text-anchor=\"start\" x=\"1754.5\" y=\"-7.8\" font-family=\"Helvetica,sans-Serif\" font-size=\"14.00\" fill=\"#000000\">value = [535, 258]</text>\n</g>\n<!-- 25&#45;&gt;27 -->\n<g id=\"edge27\" class=\"edge\">\n<title>25&#45;&gt;27</title>\n<path fill=\"none\" stroke=\"#000000\" d=\"M1755.5255,-88.9777C1763.8759,-79.8207 1772.911,-69.9129 1781.2724,-60.744\"/>\n<polygon fill=\"#000000\" stroke=\"#000000\" points=\"1783.9556,-62.9959 1788.1076,-53.2485 1778.7833,-58.2791 1783.9556,-62.9959\"/>\n</g>\n<!-- 29 -->\n<g id=\"node30\" class=\"node\">\n<title>29</title>\n<path fill=\"#f7fbfe\" stroke=\"#000000\" d=\"M2016.5,-53C2016.5,-53 1908.5,-53 1908.5,-53 1902.5,-53 1896.5,-47 1896.5,-41 1896.5,-41 1896.5,-12 1896.5,-12 1896.5,-6 1902.5,0 1908.5,0 1908.5,0 2016.5,0 2016.5,0 2022.5,0 2028.5,-6 2028.5,-12 2028.5,-12 2028.5,-41 2028.5,-41 2028.5,-47 2022.5,-53 2016.5,-53\"/>\n<text text-anchor=\"start\" x=\"1933\" y=\"-37.8\" font-family=\"Helvetica,sans-Serif\" font-size=\"14.00\" fill=\"#000000\">gini = 0.5</text>\n<text text-anchor=\"start\" x=\"1914.5\" y=\"-22.8\" font-family=\"Helvetica,sans-Serif\" font-size=\"14.00\" fill=\"#000000\">samples = 743</text>\n<text text-anchor=\"start\" x=\"1904.5\" y=\"-7.8\" font-family=\"Helvetica,sans-Serif\" font-size=\"14.00\" fill=\"#000000\">value = [364, 379]</text>\n</g>\n<!-- 28&#45;&gt;29 -->\n<g id=\"edge29\" class=\"edge\">\n<title>28&#45;&gt;29</title>\n<path fill=\"none\" stroke=\"#000000\" d=\"M1962.5,-88.9777C1962.5,-80.7364 1962.5,-71.887 1962.5,-63.5153\"/>\n<polygon fill=\"#000000\" stroke=\"#000000\" points=\"1966.0001,-63.2484 1962.5,-53.2485 1959.0001,-63.2485 1966.0001,-63.2484\"/>\n</g>\n<!-- 30 -->\n<g id=\"node31\" class=\"node\">\n<title>30</title>\n<path fill=\"#f0b78e\" stroke=\"#000000\" d=\"M2158.5,-53C2158.5,-53 2058.5,-53 2058.5,-53 2052.5,-53 2046.5,-47 2046.5,-41 2046.5,-41 2046.5,-12 2046.5,-12 2046.5,-6 2052.5,0 2058.5,0 2058.5,0 2158.5,0 2158.5,0 2164.5,0 2170.5,-6 2170.5,-12 2170.5,-12 2170.5,-41 2170.5,-41 2170.5,-47 2164.5,-53 2158.5,-53\"/>\n<text text-anchor=\"start\" x=\"2070.5\" y=\"-37.8\" font-family=\"Helvetica,sans-Serif\" font-size=\"14.00\" fill=\"#000000\">gini = 0.421</text>\n<text text-anchor=\"start\" x=\"2060.5\" y=\"-22.8\" font-family=\"Helvetica,sans-Serif\" font-size=\"14.00\" fill=\"#000000\">samples = 196</text>\n<text text-anchor=\"start\" x=\"2054.5\" y=\"-7.8\" font-family=\"Helvetica,sans-Serif\" font-size=\"14.00\" fill=\"#000000\">value = [137, 59]</text>\n</g>\n<!-- 28&#45;&gt;30 -->\n<g id=\"edge30\" class=\"edge\">\n<title>28&#45;&gt;30</title>\n<path fill=\"none\" stroke=\"#000000\" d=\"M2013.9741,-88.9777C2028.798,-79.1798 2044.9224,-68.5222 2059.5865,-58.8298\"/>\n<polygon fill=\"#000000\" stroke=\"#000000\" points=\"2061.6183,-61.6824 2068.0308,-53.2485 2057.7585,-55.8427 2061.6183,-61.6824\"/>\n</g>\n</g>\n</svg>\n"
          },
          "metadata": {},
          "execution_count": 57
        }
      ]
    },
    {
      "cell_type": "markdown",
      "source": [
        ">## Random Forest"
      ],
      "metadata": {
        "id": "MXsK0gf6-jc3"
      }
    },
    {
      "cell_type": "code",
      "source": [
        "rf= RandomForestClassifier(criterion= 'gini')\n",
        "rf.fit(x_train,y_train)"
      ],
      "metadata": {
        "colab": {
          "base_uri": "https://localhost:8080/"
        },
        "outputId": "65d6e77f-0d19-454e-9ef5-acc7e4c3c60e",
        "id": "cjOXwzW9-ySI"
      },
      "execution_count": null,
      "outputs": [
        {
          "output_type": "execute_result",
          "data": {
            "text/plain": [
              "RandomForestClassifier()"
            ]
          },
          "metadata": {},
          "execution_count": 58
        }
      ]
    },
    {
      "cell_type": "code",
      "execution_count": null,
      "metadata": {
        "outputId": "5f9b1e75-5c18-4596-cf96-7f0d1054aad0",
        "colab": {
          "base_uri": "https://localhost:8080/"
        },
        "id": "6S-MSs2r_hdM"
      },
      "outputs": [
        {
          "output_type": "stream",
          "name": "stdout",
          "text": [
            "Accuracy of Random Forest = 87.88%\n"
          ]
        }
      ],
      "source": [
        "#test \n",
        "y_pred = rf.predict(x_test) \n",
        "acc = accuracy_score(y_pred, y_test)\n",
        "print('Accuracy of Random Forest = {}%'.format(np.round(acc*100,2)))"
      ]
    },
    {
      "cell_type": "markdown",
      "source": [
        "# 6-**Test Data Submission**"
      ],
      "metadata": {
        "id": "DETYkKjB_w9V"
      }
    },
    {
      "cell_type": "markdown",
      "source": [
        ">## 6.1 Import Test Data"
      ],
      "metadata": {
        "id": "IEyP23Zhce4t"
      }
    },
    {
      "cell_type": "code",
      "source": [
        "test = pd.read_csv(\"test.csv\")"
      ],
      "metadata": {
        "id": "-wcmi2nr_6_K"
      },
      "execution_count": null,
      "outputs": []
    },
    {
      "cell_type": "markdown",
      "source": [
        ">## 6.2 Print Shape of Test Data"
      ],
      "metadata": {
        "id": "d5kK63rlcmPs"
      }
    },
    {
      "cell_type": "code",
      "source": [
        "test.shape"
      ],
      "metadata": {
        "colab": {
          "base_uri": "https://localhost:8080/"
        },
        "id": "8NVLLbZaBEEY",
        "outputId": "b5da8c68-06b8-4884-c5a7-73efe2a37d56"
      },
      "execution_count": null,
      "outputs": [
        {
          "output_type": "execute_result",
          "data": {
            "text/plain": [
              "(7500, 21)"
            ]
          },
          "metadata": {},
          "execution_count": 61
        }
      ]
    },
    {
      "cell_type": "markdown",
      "source": [
        ">## 6.3 Dealing with Nulls"
      ],
      "metadata": {
        "id": "x5_VzFqBcwAe"
      }
    },
    {
      "cell_type": "code",
      "source": [
        "test.replace(to_replace = \"unknown\", value=np.NaN, inplace= True)"
      ],
      "metadata": {
        "id": "xF4Aw6THAwum"
      },
      "execution_count": null,
      "outputs": []
    },
    {
      "cell_type": "code",
      "source": [
        "test.isnull().sum()"
      ],
      "metadata": {
        "colab": {
          "base_uri": "https://localhost:8080/"
        },
        "outputId": "e6a82eb0-62e6-441e-f49d-f032f69e7f24",
        "id": "VpuS1rWOA_CI"
      },
      "execution_count": null,
      "outputs": [
        {
          "output_type": "execute_result",
          "data": {
            "text/plain": [
              "RecordID             0\n",
              "age                  0\n",
              "job                 84\n",
              "marital            131\n",
              "education          336\n",
              "default           1597\n",
              "housing            300\n",
              "loan               306\n",
              "contact              0\n",
              "month                0\n",
              "day_of_week          0\n",
              "duration             0\n",
              "campaign             0\n",
              "pdays                0\n",
              "previous             0\n",
              "poutcome             0\n",
              "emp.var.rate         0\n",
              "cons.price.idx       0\n",
              "cons.conf.idx        0\n",
              "euribor3m            0\n",
              "nr.employed          0\n",
              "dtype: int64"
            ]
          },
          "metadata": {},
          "execution_count": 63
        }
      ]
    },
    {
      "cell_type": "code",
      "source": [
        "test[\"default\"].replace(to_replace=np.NaN, value=\"unknown\", inplace=True)"
      ],
      "metadata": {
        "id": "gFk_VNDgBi70"
      },
      "execution_count": null,
      "outputs": []
    },
    {
      "cell_type": "code",
      "source": [
        "test[\"loan\"].value_counts()"
      ],
      "metadata": {
        "colab": {
          "base_uri": "https://localhost:8080/"
        },
        "outputId": "07b2b0b1-a046-45d8-aada-2ec82a962207",
        "id": "r0cqDgj1Bi71"
      },
      "execution_count": null,
      "outputs": [
        {
          "output_type": "execute_result",
          "data": {
            "text/plain": [
              "no     6034\n",
              "yes    1160\n",
              "Name: loan, dtype: int64"
            ]
          },
          "metadata": {},
          "execution_count": 65
        }
      ]
    },
    {
      "cell_type": "code",
      "source": [
        "test[\"loan\"].replace(to_replace=np.NaN, value=\"no\", inplace=True)"
      ],
      "metadata": {
        "id": "uy0s2ZmRBi71"
      },
      "execution_count": null,
      "outputs": []
    },
    {
      "cell_type": "code",
      "source": [
        "test[\"housing\"].value_counts()"
      ],
      "metadata": {
        "colab": {
          "base_uri": "https://localhost:8080/"
        },
        "outputId": "5251b9bd-63c3-49f4-fef7-5f3b381073bd",
        "id": "yoCPEXj0Bi71"
      },
      "execution_count": null,
      "outputs": [
        {
          "output_type": "execute_result",
          "data": {
            "text/plain": [
              "yes    3881\n",
              "no     3319\n",
              "Name: housing, dtype: int64"
            ]
          },
          "metadata": {},
          "execution_count": 67
        }
      ]
    },
    {
      "cell_type": "code",
      "source": [
        "test[\"housing\"].replace(to_replace=np.NaN, value=\"yes\", inplace=True)"
      ],
      "metadata": {
        "id": "FMRCL3QCBi72"
      },
      "execution_count": null,
      "outputs": []
    },
    {
      "cell_type": "code",
      "source": [
        "test[\"education\"].value_counts()"
      ],
      "metadata": {
        "colab": {
          "base_uri": "https://localhost:8080/"
        },
        "outputId": "feea54a9-c401-4c0a-803b-2dc9b9243d65",
        "id": "VMTcCYD9Bi72"
      },
      "execution_count": null,
      "outputs": [
        {
          "output_type": "execute_result",
          "data": {
            "text/plain": [
              "university.degree      2185\n",
              "high.school            1743\n",
              "basic.9y               1054\n",
              "professional.course     933\n",
              "basic.4y                749\n",
              "basic.6y                445\n",
              "illiterate               55\n",
              "Name: education, dtype: int64"
            ]
          },
          "metadata": {},
          "execution_count": 69
        }
      ]
    },
    {
      "cell_type": "code",
      "source": [
        "test[\"education\"].replace(to_replace=np.NaN, value=\"university.degree\", inplace=True)"
      ],
      "metadata": {
        "id": "a8bpbbDHBi72"
      },
      "execution_count": null,
      "outputs": []
    },
    {
      "cell_type": "code",
      "source": [
        "test[\"job\"].value_counts()"
      ],
      "metadata": {
        "colab": {
          "base_uri": "https://localhost:8080/"
        },
        "outputId": "34c473a3-fec2-40c9-a935-71634abdabd6",
        "id": "lYOcTOiaBi72"
      },
      "execution_count": null,
      "outputs": [
        {
          "output_type": "execute_result",
          "data": {
            "text/plain": [
              "admin.           1826\n",
              "blue-collar      1632\n",
              "technician       1201\n",
              "services          751\n",
              "management        564\n",
              "retired           329\n",
              "entrepreneur      295\n",
              "self-employed     287\n",
              "unemployed        197\n",
              "housemaid         191\n",
              "student           143\n",
              "Name: job, dtype: int64"
            ]
          },
          "metadata": {},
          "execution_count": 71
        }
      ]
    },
    {
      "cell_type": "code",
      "source": [
        "test[\"job\"].replace(to_replace=np.NaN, value=\"admin.\", inplace=True)"
      ],
      "metadata": {
        "id": "lIbMQt1-Bi72"
      },
      "execution_count": null,
      "outputs": []
    },
    {
      "cell_type": "code",
      "source": [
        "test[\"marital\"].value_counts()"
      ],
      "metadata": {
        "colab": {
          "base_uri": "https://localhost:8080/"
        },
        "outputId": "f944a5f1-eda2-48d6-fe98-16b77b033523",
        "id": "0HwipJJhBi72"
      },
      "execution_count": null,
      "outputs": [
        {
          "output_type": "execute_result",
          "data": {
            "text/plain": [
              "married     4426\n",
              "single      2073\n",
              "divorced     870\n",
              "Name: marital, dtype: int64"
            ]
          },
          "metadata": {},
          "execution_count": 73
        }
      ]
    },
    {
      "cell_type": "code",
      "source": [
        "test[\"marital\"].replace(to_replace=np.NaN, value=\"married\", inplace=True)"
      ],
      "metadata": {
        "id": "OHgl2DQ0Bi72"
      },
      "execution_count": null,
      "outputs": []
    },
    {
      "cell_type": "markdown",
      "source": [
        "check if there is any remaining nulls"
      ],
      "metadata": {
        "id": "ubq9vgz7c484"
      }
    },
    {
      "cell_type": "code",
      "source": [
        "test.isnull().sum()"
      ],
      "metadata": {
        "colab": {
          "base_uri": "https://localhost:8080/"
        },
        "outputId": "f56d9f5a-ef35-4072-a8f2-386228b0d405",
        "id": "f5grFcLSBi73"
      },
      "execution_count": null,
      "outputs": [
        {
          "output_type": "execute_result",
          "data": {
            "text/plain": [
              "RecordID          0\n",
              "age               0\n",
              "job               0\n",
              "marital           0\n",
              "education         0\n",
              "default           0\n",
              "housing           0\n",
              "loan              0\n",
              "contact           0\n",
              "month             0\n",
              "day_of_week       0\n",
              "duration          0\n",
              "campaign          0\n",
              "pdays             0\n",
              "previous          0\n",
              "poutcome          0\n",
              "emp.var.rate      0\n",
              "cons.price.idx    0\n",
              "cons.conf.idx     0\n",
              "euribor3m         0\n",
              "nr.employed       0\n",
              "dtype: int64"
            ]
          },
          "metadata": {},
          "execution_count": 75
        }
      ]
    },
    {
      "cell_type": "markdown",
      "source": [
        ">## 6.4 Drop Irrelevant Features"
      ],
      "metadata": {
        "id": "sAwRlcUEc9yW"
      }
    },
    {
      "cell_type": "code",
      "metadata": {
        "colab": {
          "base_uri": "https://localhost:8080/"
        },
        "outputId": "23f0be7b-0c46-4454-aff0-b28c274bcdb9",
        "id": "YlhgkaLRBRYi"
      },
      "source": [
        "test.drop(['age', 'duration', 'previous', 'cons.price.idx', 'cons.conf.idx'],inplace=True,axis=1)\n",
        "test.head()"
      ],
      "execution_count": null,
      "outputs": [
        {
          "output_type": "execute_result",
          "data": {
            "text/html": [
              "\n",
              "  <div id=\"df-eb65b32e-6bf4-4943-b059-bbb302046944\">\n",
              "    <div class=\"colab-df-container\">\n",
              "      <div>\n",
              "<style scoped>\n",
              "    .dataframe tbody tr th:only-of-type {\n",
              "        vertical-align: middle;\n",
              "    }\n",
              "\n",
              "    .dataframe tbody tr th {\n",
              "        vertical-align: top;\n",
              "    }\n",
              "\n",
              "    .dataframe thead th {\n",
              "        text-align: right;\n",
              "    }\n",
              "</style>\n",
              "<table border=\"1\" class=\"dataframe\">\n",
              "  <thead>\n",
              "    <tr style=\"text-align: right;\">\n",
              "      <th></th>\n",
              "      <th>RecordID</th>\n",
              "      <th>job</th>\n",
              "      <th>marital</th>\n",
              "      <th>education</th>\n",
              "      <th>default</th>\n",
              "      <th>housing</th>\n",
              "      <th>loan</th>\n",
              "      <th>contact</th>\n",
              "      <th>month</th>\n",
              "      <th>day_of_week</th>\n",
              "      <th>campaign</th>\n",
              "      <th>pdays</th>\n",
              "      <th>poutcome</th>\n",
              "      <th>emp.var.rate</th>\n",
              "      <th>euribor3m</th>\n",
              "      <th>nr.employed</th>\n",
              "    </tr>\n",
              "  </thead>\n",
              "  <tbody>\n",
              "    <tr>\n",
              "      <th>0</th>\n",
              "      <td>14664</td>\n",
              "      <td>technician</td>\n",
              "      <td>single</td>\n",
              "      <td>professional.course</td>\n",
              "      <td>no</td>\n",
              "      <td>yes</td>\n",
              "      <td>yes</td>\n",
              "      <td>cellular</td>\n",
              "      <td>aug</td>\n",
              "      <td>mon</td>\n",
              "      <td>1</td>\n",
              "      <td>471</td>\n",
              "      <td>success</td>\n",
              "      <td>1.4</td>\n",
              "      <td>3.562675</td>\n",
              "      <td>5028.544435</td>\n",
              "    </tr>\n",
              "    <tr>\n",
              "      <th>1</th>\n",
              "      <td>25250</td>\n",
              "      <td>admin.</td>\n",
              "      <td>single</td>\n",
              "      <td>high.school</td>\n",
              "      <td>no</td>\n",
              "      <td>yes</td>\n",
              "      <td>no</td>\n",
              "      <td>cellular</td>\n",
              "      <td>may</td>\n",
              "      <td>thu</td>\n",
              "      <td>2</td>\n",
              "      <td>159</td>\n",
              "      <td>success</td>\n",
              "      <td>-1.8</td>\n",
              "      <td>3.294182</td>\n",
              "      <td>5025.294022</td>\n",
              "    </tr>\n",
              "    <tr>\n",
              "      <th>2</th>\n",
              "      <td>4070</td>\n",
              "      <td>blue-collar</td>\n",
              "      <td>married</td>\n",
              "      <td>basic.6y</td>\n",
              "      <td>no</td>\n",
              "      <td>no</td>\n",
              "      <td>no</td>\n",
              "      <td>telephone</td>\n",
              "      <td>may</td>\n",
              "      <td>mon</td>\n",
              "      <td>3</td>\n",
              "      <td>999</td>\n",
              "      <td>nonexistent</td>\n",
              "      <td>1.1</td>\n",
              "      <td>4.857000</td>\n",
              "      <td>5191.000000</td>\n",
              "    </tr>\n",
              "    <tr>\n",
              "      <th>3</th>\n",
              "      <td>19446</td>\n",
              "      <td>blue-collar</td>\n",
              "      <td>married</td>\n",
              "      <td>basic.9y</td>\n",
              "      <td>no</td>\n",
              "      <td>yes</td>\n",
              "      <td>no</td>\n",
              "      <td>telephone</td>\n",
              "      <td>nov</td>\n",
              "      <td>thu</td>\n",
              "      <td>1</td>\n",
              "      <td>433</td>\n",
              "      <td>success</td>\n",
              "      <td>-0.1</td>\n",
              "      <td>3.318768</td>\n",
              "      <td>5111.327469</td>\n",
              "    </tr>\n",
              "    <tr>\n",
              "      <th>4</th>\n",
              "      <td>5111</td>\n",
              "      <td>blue-collar</td>\n",
              "      <td>married</td>\n",
              "      <td>basic.4y</td>\n",
              "      <td>no</td>\n",
              "      <td>yes</td>\n",
              "      <td>no</td>\n",
              "      <td>telephone</td>\n",
              "      <td>may</td>\n",
              "      <td>thu</td>\n",
              "      <td>2</td>\n",
              "      <td>938</td>\n",
              "      <td>success</td>\n",
              "      <td>1.1</td>\n",
              "      <td>3.833161</td>\n",
              "      <td>5183.822823</td>\n",
              "    </tr>\n",
              "  </tbody>\n",
              "</table>\n",
              "</div>\n",
              "      <button class=\"colab-df-convert\" onclick=\"convertToInteractive('df-eb65b32e-6bf4-4943-b059-bbb302046944')\"\n",
              "              title=\"Convert this dataframe to an interactive table.\"\n",
              "              style=\"display:none;\">\n",
              "        \n",
              "  <svg xmlns=\"http://www.w3.org/2000/svg\" height=\"24px\"viewBox=\"0 0 24 24\"\n",
              "       width=\"24px\">\n",
              "    <path d=\"M0 0h24v24H0V0z\" fill=\"none\"/>\n",
              "    <path d=\"M18.56 5.44l.94 2.06.94-2.06 2.06-.94-2.06-.94-.94-2.06-.94 2.06-2.06.94zm-11 1L8.5 8.5l.94-2.06 2.06-.94-2.06-.94L8.5 2.5l-.94 2.06-2.06.94zm10 10l.94 2.06.94-2.06 2.06-.94-2.06-.94-.94-2.06-.94 2.06-2.06.94z\"/><path d=\"M17.41 7.96l-1.37-1.37c-.4-.4-.92-.59-1.43-.59-.52 0-1.04.2-1.43.59L10.3 9.45l-7.72 7.72c-.78.78-.78 2.05 0 2.83L4 21.41c.39.39.9.59 1.41.59.51 0 1.02-.2 1.41-.59l7.78-7.78 2.81-2.81c.8-.78.8-2.07 0-2.86zM5.41 20L4 18.59l7.72-7.72 1.47 1.35L5.41 20z\"/>\n",
              "  </svg>\n",
              "      </button>\n",
              "      \n",
              "  <style>\n",
              "    .colab-df-container {\n",
              "      display:flex;\n",
              "      flex-wrap:wrap;\n",
              "      gap: 12px;\n",
              "    }\n",
              "\n",
              "    .colab-df-convert {\n",
              "      background-color: #E8F0FE;\n",
              "      border: none;\n",
              "      border-radius: 50%;\n",
              "      cursor: pointer;\n",
              "      display: none;\n",
              "      fill: #1967D2;\n",
              "      height: 32px;\n",
              "      padding: 0 0 0 0;\n",
              "      width: 32px;\n",
              "    }\n",
              "\n",
              "    .colab-df-convert:hover {\n",
              "      background-color: #E2EBFA;\n",
              "      box-shadow: 0px 1px 2px rgba(60, 64, 67, 0.3), 0px 1px 3px 1px rgba(60, 64, 67, 0.15);\n",
              "      fill: #174EA6;\n",
              "    }\n",
              "\n",
              "    [theme=dark] .colab-df-convert {\n",
              "      background-color: #3B4455;\n",
              "      fill: #D2E3FC;\n",
              "    }\n",
              "\n",
              "    [theme=dark] .colab-df-convert:hover {\n",
              "      background-color: #434B5C;\n",
              "      box-shadow: 0px 1px 3px 1px rgba(0, 0, 0, 0.15);\n",
              "      filter: drop-shadow(0px 1px 2px rgba(0, 0, 0, 0.3));\n",
              "      fill: #FFFFFF;\n",
              "    }\n",
              "  </style>\n",
              "\n",
              "      <script>\n",
              "        const buttonEl =\n",
              "          document.querySelector('#df-eb65b32e-6bf4-4943-b059-bbb302046944 button.colab-df-convert');\n",
              "        buttonEl.style.display =\n",
              "          google.colab.kernel.accessAllowed ? 'block' : 'none';\n",
              "\n",
              "        async function convertToInteractive(key) {\n",
              "          const element = document.querySelector('#df-eb65b32e-6bf4-4943-b059-bbb302046944');\n",
              "          const dataTable =\n",
              "            await google.colab.kernel.invokeFunction('convertToInteractive',\n",
              "                                                     [key], {});\n",
              "          if (!dataTable) return;\n",
              "\n",
              "          const docLinkHtml = 'Like what you see? Visit the ' +\n",
              "            '<a target=\"_blank\" href=https://colab.research.google.com/notebooks/data_table.ipynb>data table notebook</a>'\n",
              "            + ' to learn more about interactive tables.';\n",
              "          element.innerHTML = '';\n",
              "          dataTable['output_type'] = 'display_data';\n",
              "          await google.colab.output.renderOutput(dataTable, element);\n",
              "          const docLink = document.createElement('div');\n",
              "          docLink.innerHTML = docLinkHtml;\n",
              "          element.appendChild(docLink);\n",
              "        }\n",
              "      </script>\n",
              "    </div>\n",
              "  </div>\n",
              "  "
            ],
            "text/plain": [
              "   RecordID          job  marital  ... emp.var.rate euribor3m  nr.employed\n",
              "0     14664   technician   single  ...          1.4  3.562675  5028.544435\n",
              "1     25250       admin.   single  ...         -1.8  3.294182  5025.294022\n",
              "2      4070  blue-collar  married  ...          1.1  4.857000  5191.000000\n",
              "3     19446  blue-collar  married  ...         -0.1  3.318768  5111.327469\n",
              "4      5111  blue-collar  married  ...          1.1  3.833161  5183.822823\n",
              "\n",
              "[5 rows x 16 columns]"
            ]
          },
          "metadata": {},
          "execution_count": 76
        }
      ]
    },
    {
      "cell_type": "markdown",
      "source": [
        ">## 6.5 Encoding Categorical Features"
      ],
      "metadata": {
        "id": "iMTOohU-dE0_"
      }
    },
    {
      "cell_type": "code",
      "source": [
        "education_encoder= ce.OrdinalEncoder(cols=['education'],return_df=True,\n",
        "                           mapping=[{'col':'education',\n",
        "'mapping':{'illiterate':0,'basic.4y':1, 'basic.6y':2,'basic.9y':3,'high.school':4,'university.degree':5,'professional.course':6}}])"
      ],
      "metadata": {
        "id": "M00ap6SiApPD"
      },
      "execution_count": null,
      "outputs": []
    },
    {
      "cell_type": "code",
      "source": [
        "test['education'] = education_encoder.fit_transform(test['education'])"
      ],
      "metadata": {
        "id": "XBTcVz1dAtag"
      },
      "execution_count": null,
      "outputs": []
    },
    {
      "cell_type": "code",
      "source": [
        "test[\"housing\"].replace({\"yes\":1, \"no\":0}, inplace = True)"
      ],
      "metadata": {
        "id": "pLc66xxzCMfL"
      },
      "execution_count": null,
      "outputs": []
    },
    {
      "cell_type": "code",
      "source": [
        "test[\"loan\"].replace({\"yes\":1, \"no\":0}, inplace = True)"
      ],
      "metadata": {
        "id": "uWLN4XtBCMfM"
      },
      "execution_count": null,
      "outputs": []
    },
    {
      "cell_type": "code",
      "source": [
        "f_categorical = [\"job\", \"marital\",\"default\",\"contact\", \"month\", \"day_of_week\", \"poutcome\"]"
      ],
      "metadata": {
        "id": "m3SXJZs_CMfM"
      },
      "execution_count": null,
      "outputs": []
    },
    {
      "cell_type": "code",
      "source": [
        "test = pd.get_dummies(test, columns = f_categorical, drop_first=True)"
      ],
      "metadata": {
        "id": "_s3X9PMvCMfM"
      },
      "execution_count": null,
      "outputs": []
    },
    {
      "cell_type": "markdown",
      "source": [
        ">## 6.6 Predict Target (Subscribe)"
      ],
      "metadata": {
        "id": "90MtlG1-dYgo"
      }
    },
    {
      "cell_type": "code",
      "source": [
        "y_pred = rf.predict(test) \n",
        "test['subscribe']=y_pred\n",
        "test[\"subscribe\"].replace({1:\"yes\", 0:\"no\"}, inplace = True)\n",
        "header = [\"RecordID\", \"subscribe\"]\n",
        "test.to_csv('output.csv', columns = header, index=False)\n",
        "test['subscribe']"
      ],
      "metadata": {
        "colab": {
          "base_uri": "https://localhost:8080/"
        },
        "id": "TdCv40eX_6Vn",
        "outputId": "770afcb8-bbc3-4bd4-bfdc-f49c51b590bd"
      },
      "execution_count": null,
      "outputs": [
        {
          "output_type": "execute_result",
          "data": {
            "text/plain": [
              "0        no\n",
              "1        no\n",
              "2        no\n",
              "3        no\n",
              "4        no\n",
              "       ... \n",
              "7495     no\n",
              "7496     no\n",
              "7497    yes\n",
              "7498     no\n",
              "7499     no\n",
              "Name: subscribe, Length: 7500, dtype: object"
            ]
          },
          "metadata": {},
          "execution_count": 83
        }
      ]
    }
  ]
}